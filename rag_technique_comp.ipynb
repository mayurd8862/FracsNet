{
 "cells": [
  {
   "cell_type": "markdown",
   "metadata": {},
   "source": [
    "# Simple RAG\n",
    "\n",
    "**Tech Stack** \n",
    "1. vectordatabase - ChramaDB\n",
    "2. sentence embedding - all-MiniLM-L6-v2\n",
    "3. llm - llama3-8b\n"
   ]
  },
  {
   "cell_type": "code",
   "execution_count": null,
   "metadata": {},
   "outputs": [],
   "source": [
    "from langchain_community.embeddings import SentenceTransformerEmbeddings\n",
    "from langchain_chroma import Chroma\n",
    "from langchain_community.document_loaders import PyPDFLoader\n",
    "from langchain_community.embeddings import SentenceTransformerEmbeddings\n",
    "from langchain.prompts import PromptTemplate\n",
    "from langchain.chains import RetrievalQA\n",
    "from langchain_groq import ChatGroq\n",
    "from dotenv import load_dotenv\n",
    "from langchain_ollama import ChatOllama\n",
    "load_dotenv()"
   ]
  },
  {
   "cell_type": "code",
   "execution_count": 92,
   "metadata": {},
   "outputs": [],
   "source": [
    "llm = ChatGroq(model_name=\"Llama3-8b-8192\")\n",
    "\n",
    "# llm = ChatOllama(\n",
    "#     model = \"deepseek-r1:1.5b\",\n",
    "#     temperature = 0,\n",
    "#     num_predict = 256,\n",
    "#     # other params ...\n",
    "# )\n"
   ]
  },
  {
   "cell_type": "code",
   "execution_count": 93,
   "metadata": {},
   "outputs": [],
   "source": [
    "def embd_load_vectordb(filepath):\n",
    "    # Initialize the embedding model\n",
    "    embedding = SentenceTransformerEmbeddings(model_name=\"all-MiniLM-L6-v2\")\n",
    "        # Load and split the PDF document\n",
    "    docs = PyPDFLoader(filepath).load_and_split()\n",
    "    # Create a Chroma vector store with a specified directory for persistence\n",
    "    vectordb = Chroma.from_documents(docs, embedding, persist_directory=\"./test_db\")\n",
    "    print(\"Vector database created and persisted.\")\n",
    "    return vectordb\n"
   ]
  },
  {
   "cell_type": "code",
   "execution_count": null,
   "metadata": {},
   "outputs": [],
   "source": [
    "vectordb = embd_load_vectordb(\"./knowledge/health_products_data.pdf\")"
   ]
  },
  {
   "cell_type": "code",
   "execution_count": 95,
   "metadata": {},
   "outputs": [],
   "source": [
    "def response_generator(vectordb, query, llm):\n",
    "    template = \"\"\"\n",
    "    You are an intelligent assistant designed to provide accurate and concise answers based on the context provided. \n",
    "    Follow these rules strictly:\n",
    "    1. Use ONLY the information provided in the context to answer the question.\n",
    "    2. If the context does not contain enough information to answer the question, say \"I don't know.\"\n",
    "    3. Do not make up or assume any information outside of the context.\n",
    "    4. Keep your answer concise and to the point (maximum 3 sentences).\n",
    "\n",
    "    Context:\n",
    "    {context}\n",
    "\n",
    "    Question:\n",
    "    {question}\n",
    "\n",
    "    Helpful Answer:\n",
    "    \"\"\"\n",
    "\n",
    "\n",
    "    QA_CHAIN_PROMPT = PromptTemplate(input_variables=[\"context\", \"question\"], template=template)\n",
    "\n",
    "    qa_chain = RetrievalQA.from_chain_type(llm, \n",
    "                                           retriever=vectordb.as_retriever(), \n",
    "                                           return_source_documents=True, \n",
    "                                           chain_type_kwargs={\"prompt\":QA_CHAIN_PROMPT})\n",
    "\n",
    "    ans = qa_chain.invoke(query)\n",
    "    return ans[\"result\"]\n"
   ]
  },
  {
   "cell_type": "code",
   "execution_count": null,
   "metadata": {},
   "outputs": [],
   "source": [
    "query = \"which medicine could be usefull for knee pain\"\n",
    "ans = response_generator(vectordb, query, llm)\n",
    "print(ans)"
   ]
  },
  {
   "cell_type": "code",
   "execution_count": null,
   "metadata": {},
   "outputs": [],
   "source": []
  },
  {
   "cell_type": "code",
   "execution_count": null,
   "metadata": {},
   "outputs": [],
   "source": []
  },
  {
   "cell_type": "markdown",
   "metadata": {},
   "source": [
    "# Advanced RAG (Dense Passage Retrieval (DPR) Technique)"
   ]
  },
  {
   "cell_type": "code",
   "execution_count": null,
   "metadata": {},
   "outputs": [],
   "source": [
    "from sentence_transformers import SentenceTransformer\n",
    "from langchain_community.document_loaders import PyPDFLoader\n",
    "import faiss\n",
    "import numpy as np\n",
    "\n",
    "# Load DPR Model\n",
    "query_encoder = SentenceTransformer('facebook-dpr-question_encoder-single-nq-base')\n",
    "passage_encoder = SentenceTransformer('facebook-dpr-ctx_encoder-single-nq-base')\n",
    "\n",
    "documents = PyPDFLoader(\"./knowledge/health_products_data.pdf\").load_and_split()\n",
    "passages = [doc.page_content for doc in documents]  # Extract text from Document objects\n",
    "\n",
    "# Encode Passages into Dense Vectors\n",
    "passage_embeddings = passage_encoder.encode(passages, convert_to_numpy=True)\n",
    "\n",
    "# Create FAISS Index\n",
    "dimension = passage_embeddings.shape[1]\n",
    "index = faiss.IndexFlatL2(dimension)\n",
    "index.add(passage_embeddings)\n",
    "\n",
    "# Encode Query\n",
    "query = \"which medicine could be usefull for knee pain\"\n",
    "query_embedding = query_encoder.encode([query], convert_to_numpy=True)\n",
    "\n",
    "# Perform Similarity Search\n",
    "k = 2  # Retrieve top-2 passages\n",
    "distances, indices = index.search(query_embedding, k)\n",
    "\n",
    "# Print Results\n",
    "print(\"Query:\", query)\n",
    "print(\"\\nTop Relevant Passages:\")\n",
    "for i in range(k):\n",
    "    print(f\"{i+1}. {passages[indices[0][i]]} (Distance: {distances[0][i]:.4f})\")\n"
   ]
  },
  {
   "cell_type": "code",
   "execution_count": 107,
   "metadata": {},
   "outputs": [],
   "source": [
    "from sentence_transformers import SentenceTransformer\n",
    "import faiss\n",
    "import numpy as np\n"
   ]
  },
  {
   "cell_type": "code",
   "execution_count": 108,
   "metadata": {},
   "outputs": [],
   "source": [
    "# Load DPR Model\n",
    "query_encoder = SentenceTransformer('facebook-dpr-question_encoder-single-nq-base')\n",
    "passage_encoder = SentenceTransformer('facebook-dpr-ctx_encoder-single-nq-base')\n"
   ]
  },
  {
   "cell_type": "code",
   "execution_count": 109,
   "metadata": {},
   "outputs": [],
   "source": [
    "documents = PyPDFLoader(\"./knowledge/health_products_data.pdf\").load_and_split()\n",
    "passages = [doc.page_content for doc in documents]  # Extract text from Document objects\n"
   ]
  },
  {
   "cell_type": "code",
   "execution_count": 110,
   "metadata": {},
   "outputs": [],
   "source": [
    "# Encode Passages into Dense Vectors\n",
    "passage_embeddings = passage_encoder.encode(passages, convert_to_numpy=True)\n",
    "\n",
    "# Create FAISS Index\n",
    "dimension = passage_embeddings.shape[1]\n",
    "index = faiss.IndexFlatL2(dimension)\n",
    "index.add(passage_embeddings)"
   ]
  },
  {
   "cell_type": "code",
   "execution_count": 112,
   "metadata": {},
   "outputs": [
    {
     "name": "stdout",
     "output_type": "stream",
     "text": [
      "Query: which medicine could be usefull for knee pain\n",
      "\n",
      "Top Relevant Passages:\n",
      "1. 35. Name: Enoxaparin Summary: A low-molecular-weight heparin used to prevent and treat \n",
      "blood clots. Uses: Deep vein thrombosis (DVT), pulmonary embolism, prevention of blood \n",
      "clots during surgery. Side Effects: Bleeding, bruising, injection site reactions. Dosage \n",
      "Guidelines: Usually administered by injection. Dosage varies depending on the condition \n",
      "being treated. Contraindications: Active bleeding, severe uncontrolled hypertension. \n",
      "Interactions: May interact with some medications (e.g., aspirin, antiplatelet drugs). \n",
      "Additional Information: * Storage: Store in the refrigerator. * Warnings: Requires careful \n",
      "monitoring of blood clotting time. * Benefits: Can help prevent and treat blood clots. * \n",
      "Resources: [Link to National Heart, Lung, and Blood Institute (NHLBI) page on Enoxaparin] \n",
      "36. Name: Aspirin Summary: A medication used to reduce pain, fever, and inflammation. \n",
      "Also used to prevent heart attacks and strokes. Uses: Pain relief, fever reduction, \n",
      "inflammation, prevention of heart attacks and strokes. Side Effects: Stomach upset, \n",
      "bleeding, ulcers, ringing in the ears. Dosage Guidelines: Adults: 325-650mg every 4-6 hours \n",
      "as needed. Children: Dosage varies by age and weight – consult a doctor. Contraindications: \n",
      "History of stomach ulcers, bleeding disorders, pregnancy (late stages). Interactions: May \n",
      "interact with blood thinners, other NSAIDs, methotrexate. Additional Information: * \n",
      "Storage: Store at room temperature, away from moisture and heat. * Warnings: Take with \n",
      "food to reduce stomach irritation. Avoid alcohol. * Benefits: Effective for pain relief and may \n",
      "help reduce the risk of heart attack and stroke in some individuals. * Resources: [Link to \n",
      "National Institutes of Health (NIH) page on Aspirin] \n",
      "37. Name: Clopidogrel Summary: A medication used to prevent blood clots. Uses: \n",
      "Prevention of heart attacks and strokes in people with a history of heart disease. Side \n",
      "Effects: Bleeding, bruising, diarrhea, headache. Dosage Guidelines: Adults: 75mg orally once \n",
      "daily. Contraindications: Active bleeding, severe liver disease. Interactions: May interact \n",
      "with other medications that increase bleeding risk (e.g., aspirin, NSAIDs). Additional \n",
      "Information: * Storage: Store at room temperature, away from moisture and heat. * \n",
      "Warnings: May increase the risk of bleeding. * Benefits: Can help prevent heart attacks and \n",
      "strokes in people at high risk. * Resources: [Link to National Heart, Lung, and Blood Institute \n",
      "(NHLBI) page on Clopidogrel] \n",
      "38. Name: Pravastatin Summary: A statin medication used to lower cholesterol levels. Uses: \n",
      "High cholesterol, prevention of heart disease and stroke. Side Effects: Muscle aches, \n",
      "headache, nausea, liver problems (rare). Dosage Guidelines: Adults: Starting dose usually \n",
      "10-20mg once daily, may be increased gradually. Contraindications: Active liver disease, \n",
      "pregnancy. Interactions: May interact with some medications (e.g., certain antifungals, \n",
      "macrolide antibiotics). Additional Information: * Storage: Store at room temperature, away \n",
      "from moisture and heat. * Warnings: Monitor liver function tests periodically. * Benefits: \n",
      "Effective for lowering LDL cholesterol and reducing heart disease risk. * Resources: [Link to \n",
      "National Heart, Lung, and Blood Institute (NHLBI) page on Pravastatin] (Distance: 104.5416)\n",
      "\n",
      "2. temperature, away from moisture and heat. * Warnings: Serious side effects are possible. * \n",
      "Benefits: Effective against a wide range of bacterial infections. * Resources: [Link to National \n",
      "Institutes of Health (NIH) page on Ceftriaxone] \n",
      "31. Name: Insulin Summary: A hormone used to treat diabetes by helping the body use \n",
      "glucose for energy. Uses: Type 1 diabetes, some cases of type 2 diabetes. Side Effects: \n",
      "Hypoglycemia (low blood sugar), weight gain, injection site reactions. Dosage Guidelines: \n",
      "Varies widely depending on individual needs and blood sugar levels. Contraindications: \n",
      "Hypersensitivity to insulin. Interactions: May interact with some medications (e.g., beta-\n",
      "blockers, corticosteroids). Additional Information: * Storage: Store unopened vials in the \n",
      "refrigerator. * Warnings: Requires careful monitoring of blood sugar levels. * Benefits: \n",
      "Essential for managing diabetes and preventing complications. * Resources: [Link to National \n",
      "Institute of Diabetes and Digestive and Kidney Diseases (NIDDK) page on Insulin] \n",
      "32. Name: Glucagon Summary: A hormone used to treat severe hypoglycemia (low blood \n",
      "sugar). Uses: Treatment of severe hypoglycemia. Side Effects: Nausea, vomiting, dizziness, \n",
      "headache. Dosage Guidelines: Administered by injection. Dosage varies depending on the \n",
      "severity of hypoglycemia. Contraindications: Insulinoma (tumor that produces insulin). \n",
      "Interactions: May interact with some medications. Additional Information: * Storage: Store \n",
      "in the refrigerator. * Warnings: Use only in cases of severe hypoglycemia. * Benefits: Can \n",
      "quickly raise blood sugar levels in an emergency. * Resources: [Link to National Institute of \n",
      "Diabetes and Digestive and Kidney Diseases (NIDDK) page on Glucagon] \n",
      "33. Name: Warfarin Summary: An anticoagulant medication used to prevent blood clots. \n",
      "Uses: Atrial fibrillation, deep vein thrombosis (DVT), pulmonary embolism. Side Effects: \n",
      "Bleeding, bruising, skin necrosis. Dosage Guidelines: Requires careful monitoring of blood \n",
      "clotting time. Contraindications: Active bleeding, severe liver disease, pregnancy. \n",
      "Interactions: May interact with many medications (e.g., aspirin, antibiotics, some herbal \n",
      "supplements). Additional Information: * Storage: Store at room temperature, away from \n",
      "moisture and heat. * Warnings: Requires regular blood tests to monitor blood clotting time. \n",
      "* Benefits: Can help prevent serious blood clots. * Resources: [Link to National Heart, Lung, \n",
      "and Blood Institute (NHLBI) page on Warfarin] \n",
      "34. Name: Heparin Summary: An anticoagulant medication used to prevent and treat blood \n",
      "clots. Uses: Deep vein thrombosis (DVT), pulmonary embolism, prevention of blood clots \n",
      "during surgery. Side Effects: Bleeding, bruising, thrombocytopenia (low platelet count). \n",
      "Dosage Guidelines: Usually administered by injection. Dosage varies depending on the \n",
      "condition being treated. Contraindications: Active bleeding, severe uncontrolled \n",
      "hypertension. Interactions: May interact with some medications (e.g., aspirin, antiplatelet \n",
      "drugs). Additional Information: * Storage: Store in the refrigerator. * Warnings: Requires \n",
      "careful monitoring of blood clotting time. * Benefits: Can help prevent and treat blood clots. \n",
      "* Resources: [Link to National Heart, Lung, and Blood Institute (NHLBI) page on Heparin] (Distance: 114.8952)\n",
      "\n",
      "3. pressure medications. Store Ritalin in a secure, tightly closed container at room \n",
      "temperature, away from moisture and heat.    \n",
      "86. Name: Concerta (extended-release methylphenidate) Concerta is an extended-release \n",
      "form of methylphenidate used to treat attention-deficit/hyperactivity disorder (ADHD). It \n",
      "provides a sustained release of medication throughout the day. It is used to treat ADHD. \n",
      "Common side effects include decreased appetite, difficulty sleeping, nervousness, and \n",
      "irritability. Contraindications include severe cardiovascular disease, glaucoma, and a history \n",
      "of drug abuse. Concerta can interact with many medications, including antidepressants and \n",
      "blood pressure medications. Store Concerta in a secure, tightly closed container at room \n",
      "temperature, away from moisture and heat. \n",
      "87. Name: Strattera (atomoxetine) Strattera is a non-stimulant medication used to treat \n",
      "attention-deficit/hyperactivity disorder (ADHD) in children and adults. It works by increasing \n",
      "levels of certain neurotransmitters in the brain. It is used to treat ADHD. Common side \n",
      "effects include decreased appetite, nausea, fatigue, and dizziness. Contraindications include \n",
      "severe cardiovascular disease, narrow-angle glaucoma, and a history of serious liver \n",
      "problems. Strattera can interact with certain medications, including monoamine oxidase \n",
      "inhibitors (MAOIs). Store Strattera at room temperature, away from moisture and heat. \n",
      "88. Name: Wellbutrin (bupropion) Wellbutrin is an antidepressant medication also used to \n",
      "aid in smoking cessation. It works by increasing levels of certain neurotransmitters in the \n",
      "brain. It is used to treat depression, seasonal affective disorder (SAD), and to help people \n",
      "quit smoking. Common side effects include dry mouth, insomnia, constipation, and tremor. \n",
      "Contraindications include seizures, a history of eating disorders, and recent MAOI use. \n",
      "Wellbutrin can interact with many medications, including other antidepressants and certain \n",
      "antipsychotics. Store Wellbutrin at room temperature, away from moisture and heat. \n",
      "89. Name: Remeron (mirtazapine) Remeron is an antidepressant medication that also helps \n",
      "to improve sleep. It works by increasing levels of certain neurotransmitters in the brain. It is \n",
      "used to treat depression and insomnia. Common side effects include drowsiness, increased \n",
      "appetite, weight gain, and dry mouth. Contraindications include narrow-angle glaucoma and \n",
      "recent MAOI use. Remeron can interact with other medications, including benzodiazepines \n",
      "and opioids. Store Remeron at room temperature, away from moisture and heat. \n",
      "90. Name: Trazodone Trazodone is a medication primarily used to treat insomnia, but it also \n",
      "has antidepressant effects. It works by affecting certain neurotransmitters in the brain. It is \n",
      "used to treat insomnia and some cases of depression. Common side effects include \n",
      "drowsiness, dizziness, dry mouth, and headache. Contraindications include severe liver \n",
      "disease and recent MAOI use. Trazodone can interact with other medications that cause \n",
      "drowsiness, such as alcohol and opioids. Store Trazodone at room temperature, away from \n",
      "moisture and heat. (Distance: 116.5005)\n",
      "\n"
     ]
    }
   ],
   "source": [
    "# Encode Query\n",
    "query = \"which medicine could be usefull for knee pain\"\n",
    "query_embedding = query_encoder.encode([query], convert_to_numpy=True)\n",
    "\n",
    "# Perform Similarity Search\n",
    "k = 3  # Retrieve top-2 passages\n",
    "distances, indices = index.search(query_embedding, k)\n",
    "\n",
    "# Print Results\n",
    "print(\"Query:\", query)\n",
    "print(\"\\nTop Relevant Passages:\")\n",
    "for i in range(k):\n",
    "    print(f\"{i+1}. {passages[indices[0][i]]} (Distance: {distances[0][i]:.4f})\\n\")"
   ]
  },
  {
   "cell_type": "code",
   "execution_count": null,
   "metadata": {},
   "outputs": [],
   "source": []
  },
  {
   "cell_type": "code",
   "execution_count": null,
   "metadata": {},
   "outputs": [],
   "source": []
  },
  {
   "cell_type": "code",
   "execution_count": null,
   "metadata": {},
   "outputs": [],
   "source": []
  },
  {
   "cell_type": "markdown",
   "metadata": {},
   "source": [
    "# Modular RAG"
   ]
  },
  {
   "cell_type": "markdown",
   "metadata": {},
   "source": [
    "# Graph RAG"
   ]
  },
  {
   "cell_type": "code",
   "execution_count": null,
   "metadata": {},
   "outputs": [],
   "source": []
  },
  {
   "cell_type": "code",
   "execution_count": null,
   "metadata": {},
   "outputs": [],
   "source": []
  },
  {
   "cell_type": "code",
   "execution_count": null,
   "metadata": {},
   "outputs": [],
   "source": []
  },
  {
   "cell_type": "code",
   "execution_count": null,
   "metadata": {},
   "outputs": [],
   "source": []
  },
  {
   "cell_type": "code",
   "execution_count": null,
   "metadata": {},
   "outputs": [],
   "source": []
  },
  {
   "cell_type": "code",
   "execution_count": null,
   "metadata": {},
   "outputs": [],
   "source": []
  },
  {
   "cell_type": "code",
   "execution_count": null,
   "metadata": {},
   "outputs": [],
   "source": []
  },
  {
   "cell_type": "code",
   "execution_count": null,
   "metadata": {},
   "outputs": [],
   "source": []
  },
  {
   "cell_type": "code",
   "execution_count": null,
   "metadata": {},
   "outputs": [],
   "source": []
  }
 ],
 "metadata": {
  "kernelspec": {
   "display_name": "Python 3",
   "language": "python",
   "name": "python3"
  },
  "language_info": {
   "codemirror_mode": {
    "name": "ipython",
    "version": 3
   },
   "file_extension": ".py",
   "mimetype": "text/x-python",
   "name": "python",
   "nbconvert_exporter": "python",
   "pygments_lexer": "ipython3",
   "version": "3.11.9"
  }
 },
 "nbformat": 4,
 "nbformat_minor": 2
}
