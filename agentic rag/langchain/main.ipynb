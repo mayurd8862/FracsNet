{
 "cells": [
  {
   "cell_type": "code",
   "execution_count": 1,
   "metadata": {},
   "outputs": [
    {
     "data": {
      "text/plain": [
       "[{'url': 'https://www.weatherapi.com/',\n",
       "  'content': \"{'location': {'name': 'San Francisco', 'region': 'California', 'country': 'United States of America', 'lat': 37.775, 'lon': -122.4183, 'tz_id': 'America/Los_Angeles', 'localtime_epoch': 1737260885, 'localtime': '2025-01-18 20:28'}, 'current': {'last_updated_epoch': 1737260100, 'last_updated': '2025-01-18 20:15', 'temp_c': 10.2, 'temp_f': 50.4, 'is_day': 0, 'condition': {'text': 'Clear', 'icon': '//cdn.weatherapi.com/weather/64x64/night/113.png', 'code': 1000}, 'wind_mph': 6.3, 'wind_kph': 10.1, 'wind_degree': 300, 'wind_dir': 'WNW', 'pressure_mb': 1025.0, 'pressure_in': 30.26, 'precip_mm': 0.0, 'precip_in': 0.0, 'humidity': 83, 'cloud': 0, 'feelslike_c': 8.9, 'feelslike_f': 47.9, 'windchill_c': 7.8, 'windchill_f': 46.0, 'heatindex_c': 8.6, 'heatindex_f': 47.5, 'dewpoint_c': 7.9, 'dewpoint_f': 46.2, 'vis_km': 16.0, 'vis_miles': 9.0, 'uv': 0.0, 'gust_mph': 10.8, 'gust_kph': 17.4}}\"},\n",
       " {'url': 'https://weathershogun.com/weather/usa/ca/san-francisco/480/january/2025-01-19',\n",
       "  'content': \"Sunday, January 19, 2025. San Francisco, CA - Weather Forecast San Francisco, CA Home Contact Browse States Privacy Policy Terms and Conditions °F) °C) Today Tomorrow Hourly 7 days 30 days January San Francisco, California Weather: Beach Hazards Statement (Potential hazards at beaches, such as dangerous currents, high surf, or unexpected waves.) Sunday, January 19, 2025 Day 55° Night 41° Precipitation 0 % Wind 7 mph UV Index (0 - 11+) 3 Monday Hourly Today Tomorrow 7 days 30 days Weather Forecast History Last Year's Weather on This Day (January 19, 2024) Day 54° Night 45° Wind 4 mph UV Index Precipitation Please note that while we strive for accuracy, the information provided may not always be correct.\"},\n",
       " {'url': 'https://world-weather.info/forecast/usa/san_francisco/january-2025/',\n",
       "  'content': \"Weather in San Francisco in January 2025 (California) - Detailed Weather Forecast for a Month Weather World Weather in San Francisco Weather in San Francisco in January 2025 San Francisco Weather Forecast for January 2025, is based on previous years' statistical data. +55°+46° +54°+45° +57°+48° +55°+48° +55°+48° +55°+46° +57°+50° +59°+50° +57°+50° +59°+50° +55°+48° +57°+48° +57°+48° +57°+50° +55°+46° +55°+48° +57°+48° +57°+48° +57°+48° +55°+48° +57°+48° +55°+48° +55°+48° +55°+46° +57°+48° +57°+48° +59°+48° +59°+48° +59°+48° +59°+48° +61°+50° Extended weather forecast in San Francisco HourlyWeek10-Day14-Day30-DayYear Weather in Washington, D.C.+30° Sacramento+45° Pleasanton+50° Redwood City+54° San Leandro+54° San Mateo+54° San Rafael+50° San Ramon+48° South San Francisco+55° Vallejo+50° Palo Alto+52° Pacifica+59° Berkeley+48° Castro Valley+54° Concord+48° Daly City+55° Leona Heights+54° Centennial+54° world's temperature today day day Temperature units\"},\n",
       " {'url': 'https://www.weathertab.com/en/d/o/01/united-states/california/san-francisco/',\n",
       "  'content': 'Calendar Forecast Daily Forecast Detailed Forecast San Francisco, CA Daily Weather Forecast for January 2025 Our San Francisco, California Daily Weather Forecast for January 2025, developed from a specialized dynamic long-range model, provides precise daily temperature and rainfall predictions. Click or Tap on any day for a detailed forecast. Waning Crescent Waning Crescent Waning Crescent Precipitation Forecast Rain Frequency 6 to 8 days Temperature Forecast Temperature Forecast Normal Weather Forecast Legend WeatherTAB helps you plan activities on days with the least risk of rain. Low risk of rain/snow. Medium risk of rain/snow. High risk of rain/snow. Forecast risk of rain/snow. Click or Tap on any day for a detailed forecast. Sporting Event Forecasts Weather forecasts that start where the others stop'},\n",
       " {'url': 'https://www.meteoprog.com/weather/Sanfrancisco/month/january/',\n",
       "  'content': 'San Francisco weather in January 2025 ⋆ San Francisco temperature in January ≡ Weather forecast in United States | METEOPROG Weather in United States Weather Widgets WEATHER San Francisco Weather on a map Weather Widget San Francisco weather in January 2025 +13°+6° +13°+6° +13°+7° +13°+7° +13°+6° +14°+6° +14°+7° +13°+7° +14°+6° +14°+8° +14°+8° +13°+7° +13°+7° +14°+7° +14°+8° +15°+7° +15°+7° +14°+7° +14°+8° +14°+8° +15°+9° +15°+8° +15°+7° +14°+8° +15°+8° +15°+8° +15°+8° +16°+9° +15°+8° +16°+8° +15°+8° +15°+9° +15°+7° +16°+7° +16°+9° January in San Francisco Max. temperature +23.2°C Min. temperature -0.9°C +16° +17° +13° +25° +16° +18° +17° +22° +18° +15° +21° +14° +22° +12° +23° +20° San Francisco Weather Weather in United States Monthly weather forecast in San Francisco Weather in January Weather Widgets'}]"
      ]
     },
     "execution_count": 1,
     "metadata": {},
     "output_type": "execute_result"
    }
   ],
   "source": [
    "from langchain_community.tools.tavily_search import TavilySearchResults\n",
    "search = TavilySearchResults()\n",
    "search.invoke(\"what is the weather in SF\")"
   ]
  },
  {
   "cell_type": "markdown",
   "metadata": {},
   "source": [
    "## Creating Retrieval Tool"
   ]
  },
  {
   "cell_type": "code",
   "execution_count": 3,
   "metadata": {},
   "outputs": [
    {
     "name": "stderr",
     "output_type": "stream",
     "text": [
      "C:\\Users\\mayur\\AppData\\Local\\Temp\\ipykernel_11576\\3029265589.py:12: LangChainDeprecationWarning: The class `HuggingFaceEmbeddings` was deprecated in LangChain 0.2.2 and will be removed in 1.0. An updated version of the class exists in the :class:`~langchain-huggingface package and should be used instead. To use it run `pip install -U :class:`~langchain-huggingface` and import as `from :class:`~langchain_huggingface import HuggingFaceEmbeddings``.\n",
      "  embedding = SentenceTransformerEmbeddings(model_name=\"all-MiniLM-L6-v2\")\n",
      "C:\\Users\\mayur\\AppData\\Local\\Packages\\PythonSoftwareFoundation.Python.3.11_qbz5n2kfra8p0\\LocalCache\\local-packages\\Python311\\site-packages\\tqdm\\auto.py:21: TqdmWarning: IProgress not found. Please update jupyter and ipywidgets. See https://ipywidgets.readthedocs.io/en/stable/user_install.html\n",
      "  from .autonotebook import tqdm as notebook_tqdm\n"
     ]
    }
   ],
   "source": [
    "from langchain_community.document_loaders import WebBaseLoader\n",
    "from langchain_community.vectorstores import FAISS\n",
    "from langchain_text_splitters import RecursiveCharacterTextSplitter\n",
    "from langchain_community.embeddings import SentenceTransformerEmbeddings\n",
    "\n",
    "loader = WebBaseLoader(\"https://docs.smith.langchain.com/overview\")\n",
    "docs = loader.load()\n",
    "documents = RecursiveCharacterTextSplitter(\n",
    "    chunk_size=1000, chunk_overlap=200\n",
    ").split_documents(docs)\n",
    "\n",
    "embedding = SentenceTransformerEmbeddings(model_name=\"all-MiniLM-L6-v2\")\n",
    "vector = FAISS.from_documents(documents, embedding )\n",
    "retriever = vector.as_retriever()"
   ]
  },
  {
   "cell_type": "code",
   "execution_count": 4,
   "metadata": {},
   "outputs": [
    {
     "data": {
      "text/plain": [
       "Document(id='395444a5-3c03-4e96-a899-c84f14c16305', metadata={'source': 'https://docs.smith.langchain.com/overview', 'title': 'Get started with LangSmith | 🦜️🛠️ LangSmith', 'description': 'LangSmith is a platform for building production-grade LLM applications.', 'language': 'en'}, page_content='Run the evaluationexperiment_results = client.evaluate(    dummy_app, # Your AI system goes here    data=dataset, # The data to predict and grade over    evaluators=[exact_match], # The evaluators to score the results    experiment_prefix=\"sample-experiment\", # The name of the experiment    metadata={\"version\": \"1.0.0\", \"revision_id\": \"beta\"}, # Metadata about the experiment    max_concurrency=4,  # Add concurrency.)# Analyze the results via the UI or programmatically# If you have \\'pandas\\' installed you can view the results as a# pandas DataFrame by uncommenting below:# experiment_results.to_pandas()import { Client } from \"langsmith\";import { EvaluationResult, evaluate } from \"langsmith/evaluation\";const client = new Client();// Define dataset: these are your test casesconst datasetName = \"Sample Dataset\";const dataset = await client.createDataset(datasetName, {  description: \"A sample dataset in LangSmith.\",});await client.createExamples({  inputs: [    { postfix: \"to LangSmith\" },')"
      ]
     },
     "execution_count": 4,
     "metadata": {},
     "output_type": "execute_result"
    }
   ],
   "source": [
    "retriever.invoke(\"how to upload a dataset\")[0]"
   ]
  },
  {
   "cell_type": "code",
   "execution_count": 5,
   "metadata": {},
   "outputs": [],
   "source": [
    "from langchain.tools.retriever import create_retriever_tool"
   ]
  },
  {
   "cell_type": "code",
   "execution_count": 6,
   "metadata": {},
   "outputs": [],
   "source": [
    "retriever_tool = create_retriever_tool(\n",
    "    retriever,\n",
    "    \"langsmith_search\",\n",
    "    \"Search for information about LangSmith. For any questions about LangSmith, you must use this tool!\",\n",
    ")"
   ]
  },
  {
   "cell_type": "markdown",
   "metadata": {},
   "source": [
    "## Tools"
   ]
  },
  {
   "cell_type": "code",
   "execution_count": 7,
   "metadata": {},
   "outputs": [],
   "source": [
    "tools = [search, retriever_tool]"
   ]
  },
  {
   "cell_type": "markdown",
   "metadata": {},
   "source": [
    "## Create the Agent"
   ]
  },
  {
   "cell_type": "code",
   "execution_count": 10,
   "metadata": {},
   "outputs": [],
   "source": [
    "from langchain_groq import ChatGroq\n",
    "llm = ChatGroq(model_name=\"Llama3-8b-8192\")\n"
   ]
  },
  {
   "cell_type": "code",
   "execution_count": 17,
   "metadata": {},
   "outputs": [
    {
     "data": {
      "text/plain": [
       "[SystemMessagePromptTemplate(prompt=PromptTemplate(input_variables=[], input_types={}, partial_variables={}, template='You are a helpful assistant'), additional_kwargs={}),\n",
       " MessagesPlaceholder(variable_name='chat_history', optional=True),\n",
       " HumanMessagePromptTemplate(prompt=PromptTemplate(input_variables=['input'], input_types={}, partial_variables={}, template='{input}'), additional_kwargs={}),\n",
       " MessagesPlaceholder(variable_name='agent_scratchpad')]"
      ]
     },
     "execution_count": 17,
     "metadata": {},
     "output_type": "execute_result"
    }
   ],
   "source": [
    "from langchain import hub\n",
    "\n",
    "# Get the prompt to use - you can modify this!\n",
    "prompt = hub.pull(\"hwchase17/openai-functions-agent\")\n",
    "prompt.messages"
   ]
  },
  {
   "cell_type": "code",
   "execution_count": 23,
   "metadata": {},
   "outputs": [],
   "source": [
    "# from langchain import \n",
    "from langchain.prompts import ChatPromptTemplate\n",
    "\n",
    "prompt = ChatPromptTemplate.from_messages(\n",
    "    [\n",
    "        (\"system\", \"\"\"You are a helpful assistant. Your task is to ckeck if input contain word - \"langchain\" then use retrieval tool otherwise use web search tool\"\"\"),\n",
    "        (\"placeholder\", \"{chat_history}\"),\n",
    "        (\"human\", \"{input}\"),\n",
    "        (\"placeholder\", \"{agent_scratchpad}\"),\n",
    "    ]\n",
    ")"
   ]
  },
  {
   "cell_type": "code",
   "execution_count": 24,
   "metadata": {},
   "outputs": [],
   "source": [
    "from langchain.agents import create_tool_calling_agent\n",
    "\n",
    "agent = create_tool_calling_agent(llm, tools, prompt)"
   ]
  },
  {
   "cell_type": "code",
   "execution_count": 25,
   "metadata": {},
   "outputs": [],
   "source": [
    "from langchain.agents import AgentExecutor\n",
    "\n",
    "agent_executor = AgentExecutor(agent=agent, tools=tools, verbose=True)"
   ]
  },
  {
   "cell_type": "code",
   "execution_count": 28,
   "metadata": {},
   "outputs": [
    {
     "name": "stdout",
     "output_type": "stream",
     "text": [
      "\n",
      "\n",
      "\u001b[1m> Entering new AgentExecutor chain...\u001b[0m\n",
      "\u001b[32;1m\u001b[1;3m\n",
      "Invoking: `tavily_search_results_json` with `{'query': 'what is langsmith'}`\n",
      "\n",
      "\n",
      "\u001b[0m\u001b[36;1m\u001b[1;3m[{'url': 'https://www.geeksforgeeks.org/introduction-to-langsmith/', 'content': 'Langsmith is an innovative framework designed to enhance and streamline the development of natural language processing (NLP) applications. It builds upon LangChain, a popular library for chaining multiple language models together, to create sophisticated and flexible NLP workflows. Langsmith provides tools for managing, deploying, and scaling'}, {'url': 'https://www.langchain.ca/blog/what-is-langsmith/', 'content': 'Langsmith is an application framework for language models equipped with LLM tools and agent support. It focuses on addressing challenges faced during language model development for production. This guide offers an in-depth look into the essential features and functionalities of Langsmith. Understanding Langsmith vs Langchain Prior to exploring Langsmith, it'}, {'url': 'https://www.analyticsvidhya.com/blog/2024/07/ultimate-langsmith-guide/', 'content': \"Enter LangSmith, the game-changer that simplifies this transition. Launched in 2023, LangSmith is transforming the landscape of language model development by providing a robust DevOps platform designed specifically for large language models. In this blog, we'll dive into complete LangSmith guide and how LangSmith can turn your AI aspirations\"}, {'url': 'https://www.infoworld.com/article/2335081/what-is-langsmith-tracing-and-debugging-for-llms.html', 'content': 'LangSmith logs all calls to LLMs, chains, agents, tools, and retrievers in a LangChain or other LLM program. It can help you debug an unexpected end result, determine why an agent is looping'}, {'url': 'https://docs.smith.langchain.com/', 'content': \"If you already use LangChain, you can connect to LangSmith in a few steps:\\nFor environments where process.env is not defined, initialize by explicitly passing keys:\\nIf you don't want to use LangChain in your LLM application, you can get started with LangSmith in just a few steps:\\nCongratulations! It lets you debug, test, evaluate, and monitor chains and intelligent agents built on any LLM framework and seamlessly integrates with LangChain, the go-to open source framework for building with LLMs.\\n Quick Start\\u200b\\nIf following along with code is more your thing, we've set up a Jupyter notebook at this link to help you get started with LangSmith.\\n LangChain JS Docs for the TypeScript LangChain library\\nDiscord: Join us on our Discord to discuss all things LangChain!\\n Next Steps\\u200b\\nRead the LangSmith Overview to learn more about what LangSmith has to offer.\\n\"}]\u001b[0m\u001b[32;1m\u001b[1;3mBased on the output of the tool call, it appears that Langsmith is an application framework for language models that provides tools for managing, deploying, and scaling language models. It also seems to be designed to simplify the development of natural language processing (NLP) applications by providing a robust DevOps platform for large language models.\n",
      "\n",
      "Some key features of Langsmith mentioned in the output include:\n",
      "\n",
      "* Log management: Langsmith logs all calls to language models, chains, agents, tools, and retrievers, which can be helpful for debugging and troubleshooting.\n",
      "* Chain management: Langsmith allows users to create and manage chains of language models, which can be useful for building complex NLP workflows.\n",
      "* Agent support: Langsmith provides support for agents, which can be used to automate tasks and workflows.\n",
      "* LLM tools: Langsmith provides tools for working with large language models (LLMs), including tools for debugging, testing, and evaluating LLMs.\n",
      "* Integration with LangChain: Langsmith can be integrated with LangChain, a popular open-source framework for building with LLMs.\n",
      "\n",
      "Overall, Langsmith appears to be a powerful tool for developers and researchers working with language models, and can help streamline the development and deployment of NLP applications.\u001b[0m\n",
      "\n",
      "\u001b[1m> Finished chain.\u001b[0m\n"
     ]
    },
    {
     "data": {
      "text/plain": [
       "{'input': 'what is langsmith',\n",
       " 'output': 'Based on the output of the tool call, it appears that Langsmith is an application framework for language models that provides tools for managing, deploying, and scaling language models. It also seems to be designed to simplify the development of natural language processing (NLP) applications by providing a robust DevOps platform for large language models.\\n\\nSome key features of Langsmith mentioned in the output include:\\n\\n* Log management: Langsmith logs all calls to language models, chains, agents, tools, and retrievers, which can be helpful for debugging and troubleshooting.\\n* Chain management: Langsmith allows users to create and manage chains of language models, which can be useful for building complex NLP workflows.\\n* Agent support: Langsmith provides support for agents, which can be used to automate tasks and workflows.\\n* LLM tools: Langsmith provides tools for working with large language models (LLMs), including tools for debugging, testing, and evaluating LLMs.\\n* Integration with LangChain: Langsmith can be integrated with LangChain, a popular open-source framework for building with LLMs.\\n\\nOverall, Langsmith appears to be a powerful tool for developers and researchers working with language models, and can help streamline the development and deployment of NLP applications.'}"
      ]
     },
     "execution_count": 28,
     "metadata": {},
     "output_type": "execute_result"
    }
   ],
   "source": [
    "agent_executor.invoke({\"input\": \"what is langsmith\"})"
   ]
  },
  {
   "cell_type": "code",
   "execution_count": null,
   "metadata": {},
   "outputs": [],
   "source": []
  },
  {
   "cell_type": "code",
   "execution_count": null,
   "metadata": {},
   "outputs": [],
   "source": []
  },
  {
   "cell_type": "markdown",
   "metadata": {},
   "source": []
  },
  {
   "cell_type": "code",
   "execution_count": null,
   "metadata": {},
   "outputs": [],
   "source": []
  }
 ],
 "metadata": {
  "kernelspec": {
   "display_name": "Python 3",
   "language": "python",
   "name": "python3"
  },
  "language_info": {
   "codemirror_mode": {
    "name": "ipython",
    "version": 3
   },
   "file_extension": ".py",
   "mimetype": "text/x-python",
   "name": "python",
   "nbconvert_exporter": "python",
   "pygments_lexer": "ipython3",
   "version": "3.11.9"
  }
 },
 "nbformat": 4,
 "nbformat_minor": 2
}
