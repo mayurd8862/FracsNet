{
 "cells": [
  {
   "cell_type": "markdown",
   "metadata": {},
   "source": [
    "# Simple RAG\n",
    "\n",
    "**Tech Stack** \n",
    "1. vectordatabase - ChramaDB\n",
    "2. sentence embedding - all-MiniLM-L6-v2\n",
    "3. llm - llama3-8b\n"
   ]
  },
  {
   "cell_type": "code",
   "execution_count": null,
   "metadata": {},
   "outputs": [],
   "source": [
    "\n",
    "from langchain_community.embeddings import SentenceTransformerEmbeddings\n",
    "from langchain_chroma import Chroma\n",
    "from langchain_community.document_loaders import PyPDFLoader\n",
    "from langchain_community.embeddings import SentenceTransformerEmbeddings\n",
    "from langchain.prompts import PromptTemplate\n",
    "from langchain.chains import RetrievalQA\n",
    "from langchain_groq import ChatGroq\n",
    "from dotenv import load_dotenv\n",
    "from langchain_ollama import ChatOllama\n",
    "load_dotenv()\n",
    "\n",
    "llm = ChatGroq(model_name=\"Llama3-8b-8192\")\n",
    "\n",
    "# llm = ChatOllama(\n",
    "#     model = \"deepseek-r1:1.5b\",\n",
    "#     temperature = 0,\n",
    "#     num_predict = 256,\n",
    "#     # other params ...\n",
    "# )\n",
    "\n",
    "\n",
    "\n",
    "def embd_load_vectordb(filepath):\n",
    "    # Initialize the embedding model\n",
    "    embedding = SentenceTransformerEmbeddings(model_name=\"all-MiniLM-L6-v2\")\n",
    "        # Load and split the PDF document\n",
    "    docs = PyPDFLoader(filepath).load_and_split()\n",
    "    # Create a Chroma vector store with a specified directory for persistence\n",
    "    vectordb = Chroma.from_documents(docs, embedding, persist_directory=\"./test_db\")\n",
    "    print(\"Vector database created and persisted.\")\n",
    "    return vectordb\n",
    "\n",
    "\n",
    "def load_vectordb():\n",
    "    embedding = SentenceTransformerEmbeddings(model_name=\"all-MiniLM-L6-v2\")\n",
    "\n",
    "    loaded_db = Chroma(persist_directory=\"./test_db\", embedding_function=embedding)\n",
    "    return loaded_db\n",
    "    \n",
    "vectordb = load_vectordb()\n",
    "\n",
    "\n",
    "\n",
    "def response_generator(vectordb, query, llm):\n",
    "    template = \"\"\"Use the following pieces of context to answer the question at the end. \n",
    "    If you don't know the answer, just say that you don't know, don't try to make up an answer. Use three sentences maximum. Keep the answer as concise as possible. {context} Question: {question} Helpful Answer:\"\"\"\n",
    "\n",
    "\n",
    "    QA_CHAIN_PROMPT = PromptTemplate(input_variables=[\"context\", \"question\"], template=template)\n",
    "\n",
    "    qa_chain = RetrievalQA.from_chain_type(llm, \n",
    "                                           retriever=vectordb.as_retriever(), \n",
    "                                           return_source_documents=True, \n",
    "                                           chain_type_kwargs={\"prompt\":QA_CHAIN_PROMPT})\n",
    "\n",
    "    ans = qa_chain.invoke(query)\n",
    "    return ans[\"result\"]\n",
    "\n",
    "\n",
    "query = \"what are the side effects of Ondansetron\"\n",
    "ans = response_generator(vectordb, query, llm)\n",
    "print(ans)"
   ]
  },
  {
   "cell_type": "code",
   "execution_count": 4,
   "metadata": {},
   "outputs": [
    {
     "data": {
      "text/plain": [
       "True"
      ]
     },
     "execution_count": 4,
     "metadata": {},
     "output_type": "execute_result"
    }
   ],
   "source": [
    "from langchain_community.embeddings import SentenceTransformerEmbeddings\n",
    "from langchain_chroma import Chroma\n",
    "from langchain_community.document_loaders import PyPDFLoader\n",
    "from langchain_community.embeddings import SentenceTransformerEmbeddings\n",
    "from langchain.prompts import PromptTemplate\n",
    "from langchain.chains import RetrievalQA\n",
    "from langchain_groq import ChatGroq\n",
    "from dotenv import load_dotenv\n",
    "from langchain_ollama import ChatOllama\n",
    "load_dotenv()"
   ]
  },
  {
   "cell_type": "code",
   "execution_count": 12,
   "metadata": {},
   "outputs": [],
   "source": [
    "llm = ChatGroq(model_name=\"Llama3-8b-8192\")\n",
    "\n",
    "# llm = ChatOllama(\n",
    "#     model = \"deepseek-r1:1.5b\",\n",
    "#     temperature = 0,\n",
    "#     num_predict = 256,\n",
    "#     # other params ...\n",
    "# )\n"
   ]
  },
  {
   "cell_type": "code",
   "execution_count": 13,
   "metadata": {},
   "outputs": [],
   "source": [
    "def embd_load_vectordb(filepath, vectordb_path):\n",
    "    # Initialize the embedding model\n",
    "    embedding = SentenceTransformerEmbeddings(model_name=\"all-MiniLM-L6-v2\")\n",
    "        # Load and split the PDF document\n",
    "    docs = PyPDFLoader(filepath).load_and_split()\n",
    "    # Create a Chroma vector store with a specified directory for persistence\n",
    "    vectordb = Chroma.from_documents(docs, embedding, persist_directory=vectordb_path)\n",
    "    print(\"Vector database created and persisted.\")\n",
    "    return vectordb\n"
   ]
  },
  {
   "cell_type": "code",
   "execution_count": 14,
   "metadata": {},
   "outputs": [],
   "source": [
    "def load_vectordb(vectordb_path):\n",
    "    embedding = SentenceTransformerEmbeddings(model_name=\"all-MiniLM-L6-v2\")\n",
    "\n",
    "    loaded_db = Chroma(persist_directory=vectordb_path, embedding_function=embedding)\n",
    "    return loaded_db"
   ]
  },
  {
   "cell_type": "code",
   "execution_count": 15,
   "metadata": {},
   "outputs": [],
   "source": [
    "def response_generator(vectordb, query, llm):\n",
    "\n",
    "    template = \"\"\"\n",
    "    You are an intelligent assistant designed to provide accurate and concise answers based on the context provided. \n",
    "    Follow these rules strictly:\n",
    "    1. Use ONLY the information provided in the context to answer the question.\n",
    "    2. If the context does not contain enough information to answer the question, say \"I don't know.\"\n",
    "    3. Do not make up or assume any information outside of the context.\n",
    "    4. Keep your answer concise and to the point (maximum 3 sentences).\n",
    "\n",
    "    Context:\n",
    "    {context}\n",
    "\n",
    "    Question:\n",
    "    {question}\n",
    "\n",
    "    Helpful Answer:\n",
    "    \"\"\"\n",
    "\n",
    "\n",
    "    QA_CHAIN_PROMPT = PromptTemplate(input_variables=[\"context\", \"question\"], template=template)\n",
    "\n",
    "    qa_chain = RetrievalQA.from_chain_type(llm, \n",
    "                                           retriever=vectordb.as_retriever(search_kwargs={\"k\": 3}), \n",
    "                                           return_source_documents=True, \n",
    "                                           chain_type_kwargs={\"prompt\":QA_CHAIN_PROMPT})\n",
    "\n",
    "    ans = qa_chain.invoke(query)\n",
    "    return ans[\"result\"]\n"
   ]
  },
  {
   "cell_type": "code",
   "execution_count": 16,
   "metadata": {},
   "outputs": [],
   "source": [
    "vectordb_path = \"C:/Users/mayur/Desktop/Tech/Project/FracsNet/RAG_tech_comparisons/test_db\""
   ]
  },
  {
   "cell_type": "code",
   "execution_count": 17,
   "metadata": {},
   "outputs": [
    {
     "name": "stdout",
     "output_type": "stream",
     "text": [
      "Vector database created and persisted.\n"
     ]
    }
   ],
   "source": [
    "# emed_data = embd_load_vectordb(\"./knowledge/health_products_data.pdf\")\n",
    "emed_data = embd_load_vectordb(\"C:/Users/mayur/Desktop/Tech/Project/FracsNet/knowledge/health_products_data.pdf\",vectordb_path)\n",
    "\n",
    "vectordb = load_vectordb(vectordb_path)"
   ]
  },
  {
   "cell_type": "code",
   "execution_count": 18,
   "metadata": {},
   "outputs": [
    {
     "name": "stdout",
     "output_type": "stream",
     "text": [
      "Ibuprofen is a non-steroidal anti-inflammatory drug (NSAID) used to reduce pain, fever, and inflammation.\n"
     ]
    }
   ],
   "source": [
    "query = \"what is ibuprofen\"\n",
    "answer = response_generator(vectordb, query, llm)\n",
    "print(answer)"
   ]
  },
  {
   "cell_type": "code",
   "execution_count": 19,
   "metadata": {},
   "outputs": [],
   "source": [
    "import pandas as pd\n",
    "import time\n",
    "\n",
    "# List of questions\n",
    "questions = [\n",
    "    \"Which pain reliever is LEAST suitable for someone with stomach ulcers?\",\n",
    "    \"Ibuprofen and Aspirin share what warning?\",\n",
    "    \"Name two medications that might interact with Warfarin.\",\n",
    "    \"What is the first-line medication for Type 2 Diabetes?\",\n",
    "    \"Which medication might treat both insomnia and depression?\",\n",
    "    \"Difference between bronchodilator and inhaled corticosteroid?\",\n",
    "    \"Long-term side effects of Prednisone?\",\n",
    "    \"Contraindications for Clopidogrel vs. Warfarin?\",\n",
    "]\n",
    "\n",
    "# Initialize an empty list to store results\n",
    "results = []\n",
    "\n",
    "# Generate answers and record time\n",
    "for query in questions:\n",
    "    start_time = time.time()  # Start time tracking\n",
    "    answer = response_generator(vectordb, query, llm)  # Generate answer\n",
    "    end_time = time.time()  # End time tracking\n",
    "    time_taken = end_time - start_time  # Calculate time taken\n",
    "\n",
    "    # Append results to the list\n",
    "    results.append({\n",
    "        \"Question\": query,\n",
    "        \"Simple RAG result\": answer,\n",
    "        \"Simple RAG time\": time_taken\n",
    "    })\n",
    "\n",
    "# Convert the list to a pandas DataFrame\n",
    "dataset = pd.DataFrame(results)\n",
    "path = \"C:/Users/mayur/Desktop/Tech/Project/FracsNet/RAG_tech_comparisons/simple_RAG.csv\"\n",
    "# Save the dataset to a CSV file\n",
    "dataset.to_csv(path, index=False)\n"
   ]
  },
  {
   "cell_type": "code",
   "execution_count": 20,
   "metadata": {},
   "outputs": [
    {
     "data": {
      "text/html": [
       "<div>\n",
       "<style scoped>\n",
       "    .dataframe tbody tr th:only-of-type {\n",
       "        vertical-align: middle;\n",
       "    }\n",
       "\n",
       "    .dataframe tbody tr th {\n",
       "        vertical-align: top;\n",
       "    }\n",
       "\n",
       "    .dataframe thead th {\n",
       "        text-align: right;\n",
       "    }\n",
       "</style>\n",
       "<table border=\"1\" class=\"dataframe\">\n",
       "  <thead>\n",
       "    <tr style=\"text-align: right;\">\n",
       "      <th></th>\n",
       "      <th>Question</th>\n",
       "      <th>Simple RAG result</th>\n",
       "      <th>Simple RAG time</th>\n",
       "    </tr>\n",
       "  </thead>\n",
       "  <tbody>\n",
       "    <tr>\n",
       "      <th>0</th>\n",
       "      <td>Which pain reliever is LEAST suitable for someone with stomach ulcers?</td>\n",
       "      <td>Based on the context, Ibuprofen is the pain reliever that is LEAST suitable for someone with stomach ulcers. The context states that Ibuprofen has side effects such as stomach upset, nausea, and increased risk of heart attack/stroke, and it is contraindicated for individuals with a history of stomach ulcers.</td>\n",
       "      <td>0.922425</td>\n",
       "    </tr>\n",
       "    <tr>\n",
       "      <th>1</th>\n",
       "      <td>Ibuprofen and Aspirin share what warning?</td>\n",
       "      <td>Ibuprofen and Aspirin are not mentioned in the given context. However, since Ibuprofen's interactions include \"May interact with blood thinners, aspirin, other NSAIDs\", we can infer that Ibuprofen may interact with Aspirin.</td>\n",
       "      <td>0.716047</td>\n",
       "    </tr>\n",
       "    <tr>\n",
       "      <th>2</th>\n",
       "      <td>Name two medications that might interact with Warfarin.</td>\n",
       "      <td>Based on the provided context, I can help you with that.\\n\\nAccording to the information, medications that might interact with Warfarin include:\\n\\n1. Aspirin (mentioned in medication summary 36): May interact with blood thinners, including Warfarin.\\n2. Clopidogrel (mentioned in medication summary 37): May interact with other medications that increase bleeding risk, including Warfarin.\\n\\nPlease note that this is based on the provided context, and it's essential to consult with a healthcare professional for personalized advice on medication interactions.</td>\n",
       "      <td>19.748091</td>\n",
       "    </tr>\n",
       "    <tr>\n",
       "      <th>3</th>\n",
       "      <td>What is the first-line medication for Type 2 Diabetes?</td>\n",
       "      <td>I don't know.</td>\n",
       "      <td>25.330218</td>\n",
       "    </tr>\n",
       "    <tr>\n",
       "      <th>4</th>\n",
       "      <td>Which medication might treat both insomnia and depression?</td>\n",
       "      <td>Based on the provided context, both Zoloft and Prozac are mentioned as treating depression, and they both have insomnia as a common side effect. Additionally, Celexa and Paxil are also mentioned as treating depression and have insomnia as a common side effect. Therefore, the answer is that all four medications (Zoloft, Prozac, Celexa, and Paxil) might treat both insomnia and depression.</td>\n",
       "      <td>19.463250</td>\n",
       "    </tr>\n",
       "    <tr>\n",
       "      <th>5</th>\n",
       "      <td>Difference between bronchodilator and inhaled corticosteroid?</td>\n",
       "      <td>I don't know. The provided context only discusses specific medications (salmeterol, albuterol, ipratropium, tiotropium, and montelukast) and does not mention bronchodilators or inhaled corticosteroids in general.</td>\n",
       "      <td>25.681642</td>\n",
       "    </tr>\n",
       "    <tr>\n",
       "      <th>6</th>\n",
       "      <td>Long-term side effects of Prednisone?</td>\n",
       "      <td>According to the context, the long-term use of Prednisone can have significant side effects.</td>\n",
       "      <td>25.369845</td>\n",
       "    </tr>\n",
       "    <tr>\n",
       "      <th>7</th>\n",
       "      <td>Contraindications for Clopidogrel vs. Warfarin?</td>\n",
       "      <td>I don't know.\\n\\nThe context only provides information about Enoxaparin, Aspirin, Clopidogrel, and Pravastatin. There is no information about Warfarin.</td>\n",
       "      <td>24.301037</td>\n",
       "    </tr>\n",
       "  </tbody>\n",
       "</table>\n",
       "</div>"
      ],
      "text/plain": [
       "                                                                 Question  \\\n",
       "0  Which pain reliever is LEAST suitable for someone with stomach ulcers?   \n",
       "1                               Ibuprofen and Aspirin share what warning?   \n",
       "2                 Name two medications that might interact with Warfarin.   \n",
       "3                  What is the first-line medication for Type 2 Diabetes?   \n",
       "4              Which medication might treat both insomnia and depression?   \n",
       "5           Difference between bronchodilator and inhaled corticosteroid?   \n",
       "6                                   Long-term side effects of Prednisone?   \n",
       "7                         Contraindications for Clopidogrel vs. Warfarin?   \n",
       "\n",
       "                                                                                                                                                                                                                                                                                                                                                                                                                                                                                                                                                                   Simple RAG result  \\\n",
       "0                                                                                                                                                                                                                                                              Based on the context, Ibuprofen is the pain reliever that is LEAST suitable for someone with stomach ulcers. The context states that Ibuprofen has side effects such as stomach upset, nausea, and increased risk of heart attack/stroke, and it is contraindicated for individuals with a history of stomach ulcers.   \n",
       "1                                                                                                                                                                                                                                                                                                                                                    Ibuprofen and Aspirin are not mentioned in the given context. However, since Ibuprofen's interactions include \"May interact with blood thinners, aspirin, other NSAIDs\", we can infer that Ibuprofen may interact with Aspirin.   \n",
       "2  Based on the provided context, I can help you with that.\\n\\nAccording to the information, medications that might interact with Warfarin include:\\n\\n1. Aspirin (mentioned in medication summary 36): May interact with blood thinners, including Warfarin.\\n2. Clopidogrel (mentioned in medication summary 37): May interact with other medications that increase bleeding risk, including Warfarin.\\n\\nPlease note that this is based on the provided context, and it's essential to consult with a healthcare professional for personalized advice on medication interactions.   \n",
       "3                                                                                                                                                                                                                                                                                                                                                                                                                                                                                                                                                                      I don't know.   \n",
       "4                                                                                                                                                                              Based on the provided context, both Zoloft and Prozac are mentioned as treating depression, and they both have insomnia as a common side effect. Additionally, Celexa and Paxil are also mentioned as treating depression and have insomnia as a common side effect. Therefore, the answer is that all four medications (Zoloft, Prozac, Celexa, and Paxil) might treat both insomnia and depression.   \n",
       "5                                                                                                                                                                                                                                                                                                                                                               I don't know. The provided context only discusses specific medications (salmeterol, albuterol, ipratropium, tiotropium, and montelukast) and does not mention bronchodilators or inhaled corticosteroids in general.   \n",
       "6                                                                                                                                                                                                                                                                                                                                                                                                                                                                                       According to the context, the long-term use of Prednisone can have significant side effects.   \n",
       "7                                                                                                                                                                                                                                                                                                                                                                                                                            I don't know.\\n\\nThe context only provides information about Enoxaparin, Aspirin, Clopidogrel, and Pravastatin. There is no information about Warfarin.   \n",
       "\n",
       "   Simple RAG time  \n",
       "0         0.922425  \n",
       "1         0.716047  \n",
       "2        19.748091  \n",
       "3        25.330218  \n",
       "4        19.463250  \n",
       "5        25.681642  \n",
       "6        25.369845  \n",
       "7        24.301037  "
      ]
     },
     "execution_count": 20,
     "metadata": {},
     "output_type": "execute_result"
    }
   ],
   "source": [
    "import pandas as pd\n",
    "\n",
    "# Set the maximum column width to a large value (e.g., 500 characters)\n",
    "pd.set_option('display.max_colwidth', 1000)  # Or even higher if needed\n",
    "\n",
    "df = pd.read_csv(path)\n",
    "df"
   ]
  },
  {
   "cell_type": "code",
   "execution_count": null,
   "metadata": {},
   "outputs": [],
   "source": []
  },
  {
   "cell_type": "markdown",
   "metadata": {},
   "source": [
    "# Advanced RAG (Dense Passage Retrieval (DPR) Technique)"
   ]
  },
  {
   "cell_type": "code",
   "execution_count": null,
   "metadata": {},
   "outputs": [],
   "source": [
    "from sentence_transformers import SentenceTransformer\n",
    "from langchain_community.document_loaders import PyPDFLoader\n",
    "import faiss\n",
    "import numpy as np\n",
    "\n",
    "# Load DPR Model\n",
    "query_encoder = SentenceTransformer('facebook-dpr-question_encoder-single-nq-base')\n",
    "passage_encoder = SentenceTransformer('facebook-dpr-ctx_encoder-single-nq-base')\n",
    "\n",
    "documents = PyPDFLoader(\"./knowledge/health_products_data.pdf\").load_and_split()\n",
    "passages = [doc.page_content for doc in documents]  # Extract text from Document objects\n",
    "\n",
    "# Encode Passages into Dense Vectors\n",
    "passage_embeddings = passage_encoder.encode(passages, convert_to_numpy=True)\n",
    "\n",
    "# Create FAISS Index\n",
    "dimension = passage_embeddings.shape[1]\n",
    "index = faiss.IndexFlatL2(dimension)\n",
    "index.add(passage_embeddings)\n",
    "\n",
    "# Encode Query\n",
    "query = \"which medicine could be usefull for knee pain\"\n",
    "query_embedding = query_encoder.encode([query], convert_to_numpy=True)\n",
    "\n",
    "# Perform Similarity Search\n",
    "k = 2  # Retrieve top-2 passages\n",
    "distances, indices = index.search(query_embedding, k)\n",
    "\n",
    "# Print Results\n",
    "print(\"Query:\", query)\n",
    "print(\"\\nTop Relevant Passages:\")\n",
    "for i in range(k):\n",
    "    print(f\"{i+1}. {passages[indices[0][i]]} (Distance: {distances[0][i]:.4f})\")\n"
   ]
  },
  {
   "cell_type": "code",
   "execution_count": null,
   "metadata": {},
   "outputs": [],
   "source": [
    "from sentence_transformers import SentenceTransformer\n",
    "import faiss\n",
    "\n",
    "from langchain_community.embeddings import SentenceTransformerEmbeddings\n",
    "from langchain_chroma import Chroma\n",
    "from langchain_community.document_loaders import PyPDFLoader\n",
    "from langchain_community.embeddings import SentenceTransformerEmbeddings\n",
    "from langchain.prompts import PromptTemplate\n",
    "from langchain.chains import RetrievalQA\n",
    "from langchain_groq import ChatGroq\n",
    "from dotenv import load_dotenv\n",
    "from langchain_ollama import ChatOllama\n",
    "load_dotenv()\n",
    "import numpy as np\n",
    "\n",
    "llm = ChatGroq(model_name=\"Llama3-8b-8192\")\n",
    "\n",
    "# llm = ChatOllama(\n",
    "#     model = \"deepseek-r1:1.5b\",\n",
    "#     temperature = 0,\n",
    "#     num_predict = 256,\n",
    "#     # other params ...\n",
    "# )\n",
    "\n",
    "# Load DPR Model\n",
    "query_encoder = SentenceTransformer('facebook-dpr-question_encoder-single-nq-base')\n",
    "passage_encoder = SentenceTransformer('facebook-dpr-ctx_encoder-single-nq-base')\n",
    "\n",
    "documents = PyPDFLoader(\"./knowledge/health_products_data.pdf\").load_and_split()\n",
    "passages = [doc.page_content for doc in documents]  # Extract text from Document objects\n",
    "\n",
    "\n",
    "# Encode Passages into Dense Vectors\n",
    "passage_embeddings = passage_encoder.encode(passages, convert_to_numpy=True)\n",
    "\n",
    "# Create FAISS Index\n",
    "dimension = passage_embeddings.shape[1]\n",
    "vectordb = faiss.IndexFlatL2(dimension)\n",
    "vectordb.add(passage_embeddings)\n",
    "\n",
    "def response_generator(passages, query, llm):\n",
    "\n",
    "    query_embedding = query_encoder.encode([query], convert_to_numpy=True)\n",
    "    # Perform Similarity Search\n",
    "    k = 2  # Retrieve top-2 passages\n",
    "    indices = vectordb.search(query_embedding, k)\n",
    "    context = [passages[i] for i in indices[0]] \n",
    "\n",
    "    template = f\"\"\"\n",
    "    You are an intelligent assistant designed to provide accurate and concise answers based on the context provided. \n",
    "    Follow these rules strictly:\n",
    "    1. Use ONLY the information provided in the context to answer the question.\n",
    "    2. If the context does not contain enough information to answer the question, say \"I don't know.\"\n",
    "    3. Do not make up or assume any information outside of the context.\n",
    "    4. Keep your answer concise and to the point (maximum 3 sentences).\n",
    "\n",
    "    Context:\n",
    "    {context}\n",
    "\n",
    "    Question:\n",
    "    {query}\n",
    "\n",
    "    Helpful Answer:\n",
    "    \"\"\"\n",
    "    res = llm.invoke(template)\n",
    "    return res.content\n",
    "\n",
    "\n",
    "query = \"which medicine is used to treat depression\"\n",
    "ans= response_generator(passages, query, llm)\n",
    "print(ans)"
   ]
  },
  {
   "cell_type": "code",
   "execution_count": null,
   "metadata": {},
   "outputs": [],
   "source": []
  },
  {
   "cell_type": "code",
   "execution_count": null,
   "metadata": {},
   "outputs": [],
   "source": []
  },
  {
   "cell_type": "code",
   "execution_count": 21,
   "metadata": {},
   "outputs": [],
   "source": [
    "from sentence_transformers import SentenceTransformer\n",
    "from langchain_community.document_loaders import PyPDFLoader\n",
    "import faiss\n",
    "import numpy as np\n",
    "\n",
    "from langchain_groq import ChatGroq\n"
   ]
  },
  {
   "cell_type": "code",
   "execution_count": 22,
   "metadata": {},
   "outputs": [],
   "source": [
    "llm = ChatGroq(model_name=\"Llama3-8b-8192\")"
   ]
  },
  {
   "cell_type": "code",
   "execution_count": 23,
   "metadata": {},
   "outputs": [],
   "source": [
    "# Load DPR Model\n",
    "query_encoder = SentenceTransformer('facebook-dpr-question_encoder-single-nq-base')\n",
    "passage_encoder = SentenceTransformer('facebook-dpr-ctx_encoder-single-nq-base')\n"
   ]
  },
  {
   "cell_type": "code",
   "execution_count": 24,
   "metadata": {},
   "outputs": [],
   "source": [
    "data_path = \"C:/Users/mayur/Desktop/Tech/Project/FracsNet/knowledge/health_products_data.pdf\"\n",
    "documents = PyPDFLoader(data_path).load_and_split()\n",
    "passages = [doc.page_content for doc in documents]  # Extract text from Document objects\n",
    "\n",
    "# Encode Passages into Dense Vectors\n",
    "passage_embeddings = passage_encoder.encode(passages, convert_to_numpy=True)\n"
   ]
  },
  {
   "cell_type": "code",
   "execution_count": 25,
   "metadata": {},
   "outputs": [],
   "source": [
    "# # Create FAISS Index\n",
    "dimension = passage_embeddings.shape[1]\n",
    "vectordb = faiss.IndexFlatL2(dimension)\n",
    "vectordb.add(passage_embeddings)"
   ]
  },
  {
   "cell_type": "code",
   "execution_count": 26,
   "metadata": {},
   "outputs": [],
   "source": [
    "def response_generator(passages, query, llm):\n",
    "    query_embedding = query_encoder.encode([query], convert_to_numpy=True)\n",
    "\n",
    "    # Perform Similarity Search\n",
    "    k = 3  # Retrieve top-2 passages\n",
    "    distances, indices = vectordb.search(query_embedding, k)\n",
    "\n",
    "    # Extract relevant passages\n",
    "    context = [passages[i] for i in indices[0].tolist()]  # Convert NumPy array to list\n",
    "\n",
    "    # Construct prompt\n",
    "    template = f\"\"\"\n",
    "    You are an intelligent assistant designed to provide accurate and concise answers based on the context provided. \n",
    "    Follow these rules strictly:\n",
    "    1. Use ONLY the information provided in the context to answer the question.\n",
    "    2. If the context does not contain enough information to answer the question, say \"I don't know.\"\n",
    "    3. Do not make up or assume any information outside of the context.\n",
    "    4. Keep your answer concise and to the point (maximum 3 sentences).\n",
    "\n",
    "    Context:\n",
    "    {context}\n",
    "\n",
    "    Question:\n",
    "    {query}\n",
    "\n",
    "    Helpful Answer:\n",
    "    \"\"\"\n",
    "\n",
    "    # Generate response using LLM\n",
    "    res = llm.invoke(template)\n",
    "    return res.content\n",
    "\n"
   ]
  },
  {
   "cell_type": "code",
   "execution_count": 27,
   "metadata": {},
   "outputs": [
    {
     "name": "stdout",
     "output_type": "stream",
     "text": [
      "Wellbutrin (bupropion) is an antidepressant medication used to treat depression, as well as to aid in smoking cessation.\n"
     ]
    }
   ],
   "source": [
    "query = \"which medicine is used to treat depression\"\n",
    "ans = response_generator(passages, query, llm)\n",
    "print(ans)"
   ]
  },
  {
   "cell_type": "code",
   "execution_count": null,
   "metadata": {},
   "outputs": [],
   "source": []
  },
  {
   "cell_type": "code",
   "execution_count": 30,
   "metadata": {},
   "outputs": [],
   "source": [
    "import pandas as pd\n",
    "import time\n",
    "\n",
    "# List of questions\n",
    "questions = [\n",
    "    \"Which pain reliever is LEAST suitable for someone with stomach ulcers?\",\n",
    "    \"Ibuprofen and Aspirin share what warning?\",\n",
    "    \"Name two medications that might interact with Warfarin.\",\n",
    "    \"What is the first-line medication for Type 2 Diabetes?\",\n",
    "    \"Which medication might treat both insomnia and depression?\",\n",
    "    \"Difference between bronchodilator and inhaled corticosteroid?\",\n",
    "    \"Long-term side effects of Prednisone?\",\n",
    "    \"Contraindications for Clopidogrel vs. Warfarin?\",\n",
    "]\n",
    "\n",
    "# Initialize an empty list to store results\n",
    "results = []\n",
    "\n",
    "# Generate answers and record time\n",
    "for query in questions:\n",
    "    start_time = time.time()  # Start time tracking\n",
    "    answer = response_generator(passages, query, llm) # Generate answer\n",
    "    end_time = time.time()  # End time tracking\n",
    "    time_taken = end_time - start_time  # Calculate time taken\n",
    "\n",
    "    # Append results to the list\n",
    "    results.append({\n",
    "        \"Question\": query,\n",
    "        \"DPR RAG result\": answer,\n",
    "        \"DPR RAG time\": time_taken\n",
    "    })\n",
    "\n",
    "# Convert the list to a pandas DataFrame\n",
    "dataset = pd.DataFrame(results)\n",
    "path = \"C:/Users/mayur/Desktop/Tech/Project/FracsNet/RAG_tech_comparisons/DPR_RAG.csv\"\n",
    "# Save the dataset to a CSV file\n",
    "dataset.to_csv(path, index=False)\n"
   ]
  },
  {
   "cell_type": "code",
   "execution_count": 31,
   "metadata": {},
   "outputs": [
    {
     "data": {
      "text/html": [
       "<div>\n",
       "<style scoped>\n",
       "    .dataframe tbody tr th:only-of-type {\n",
       "        vertical-align: middle;\n",
       "    }\n",
       "\n",
       "    .dataframe tbody tr th {\n",
       "        vertical-align: top;\n",
       "    }\n",
       "\n",
       "    .dataframe thead th {\n",
       "        text-align: right;\n",
       "    }\n",
       "</style>\n",
       "<table border=\"1\" class=\"dataframe\">\n",
       "  <thead>\n",
       "    <tr style=\"text-align: right;\">\n",
       "      <th></th>\n",
       "      <th>Question</th>\n",
       "      <th>DPR RAG result</th>\n",
       "      <th>DPR RAG time</th>\n",
       "    </tr>\n",
       "  </thead>\n",
       "  <tbody>\n",
       "    <tr>\n",
       "      <th>0</th>\n",
       "      <td>Which pain reliever is LEAST suitable for someone with stomach ulcers?</td>\n",
       "      <td>According to the context, Aspirin is mentioned as a medication used to reduce pain, fever, and inflammation. However, it is also mentioned as a medication that can cause stomach upset, bleeding, ulcers, and ringing in the ears. Therefore, it is likely that Aspirin is NOT suitable for someone with stomach ulcers.\\n\\nSo, the correct answer is: Aspirin.</td>\n",
       "      <td>3.263138</td>\n",
       "    </tr>\n",
       "    <tr>\n",
       "      <th>1</th>\n",
       "      <td>Ibuprofen and Aspirin share what warning?</td>\n",
       "      <td>According to the context, Ibuprofen and Aspirin do not share any information as Ibuprofen is not mentioned in the context. However, Aspirin shares the warning \"Take with food to reduce stomach irritation. Avoid alcohol.\"</td>\n",
       "      <td>24.703709</td>\n",
       "    </tr>\n",
       "    <tr>\n",
       "      <th>2</th>\n",
       "      <td>Name two medications that might interact with Warfarin.</td>\n",
       "      <td>Based on the provided context, two medications that might interact with Warfarin are:\\n\\n1. Aspirin\\n2. Antibiotics</td>\n",
       "      <td>26.579809</td>\n",
       "    </tr>\n",
       "    <tr>\n",
       "      <th>3</th>\n",
       "      <td>What is the first-line medication for Type 2 Diabetes?</td>\n",
       "      <td>I don't know. The provided context does not mention Type 2 Diabetes or any medications for its treatment.</td>\n",
       "      <td>24.780622</td>\n",
       "    </tr>\n",
       "    <tr>\n",
       "      <th>4</th>\n",
       "      <td>Which medication might treat both insomnia and depression?</td>\n",
       "      <td>According to the context, Remeron (mirtazapine) is an antidepressant medication that also helps to improve sleep. It is used to treat depression and insomnia. Therefore, Remeron is the medication that might treat both insomnia and depression.</td>\n",
       "      <td>24.313662</td>\n",
       "    </tr>\n",
       "    <tr>\n",
       "      <th>5</th>\n",
       "      <td>Difference between bronchodilator and inhaled corticosteroid?</td>\n",
       "      <td>I don't know.</td>\n",
       "      <td>24.486315</td>\n",
       "    </tr>\n",
       "    <tr>\n",
       "      <th>6</th>\n",
       "      <td>Long-term side effects of Prednisone?</td>\n",
       "      <td>I don't know.</td>\n",
       "      <td>24.285315</td>\n",
       "    </tr>\n",
       "    <tr>\n",
       "      <th>7</th>\n",
       "      <td>Contraindications for Clopidogrel vs. Warfarin?</td>\n",
       "      <td>Contraindications for Clopidogrel: Active bleeding, severe liver disease.\\n\\nContraindications for Warfarin: Active bleeding, severe liver disease, pregnancy.\\n\\nNote: These answers are based solely on the provided context and do not include any external information.</td>\n",
       "      <td>24.613664</td>\n",
       "    </tr>\n",
       "  </tbody>\n",
       "</table>\n",
       "</div>"
      ],
      "text/plain": [
       "                                                                 Question  \\\n",
       "0  Which pain reliever is LEAST suitable for someone with stomach ulcers?   \n",
       "1                               Ibuprofen and Aspirin share what warning?   \n",
       "2                 Name two medications that might interact with Warfarin.   \n",
       "3                  What is the first-line medication for Type 2 Diabetes?   \n",
       "4              Which medication might treat both insomnia and depression?   \n",
       "5           Difference between bronchodilator and inhaled corticosteroid?   \n",
       "6                                   Long-term side effects of Prednisone?   \n",
       "7                         Contraindications for Clopidogrel vs. Warfarin?   \n",
       "\n",
       "                                                                                                                                                                                                                                                                                                                                                     DPR RAG result  \\\n",
       "0  According to the context, Aspirin is mentioned as a medication used to reduce pain, fever, and inflammation. However, it is also mentioned as a medication that can cause stomach upset, bleeding, ulcers, and ringing in the ears. Therefore, it is likely that Aspirin is NOT suitable for someone with stomach ulcers.\\n\\nSo, the correct answer is: Aspirin.   \n",
       "1                                                                                                                                      According to the context, Ibuprofen and Aspirin do not share any information as Ibuprofen is not mentioned in the context. However, Aspirin shares the warning \"Take with food to reduce stomach irritation. Avoid alcohol.\"   \n",
       "2                                                                                                                                                                                                                                               Based on the provided context, two medications that might interact with Warfarin are:\\n\\n1. Aspirin\\n2. Antibiotics   \n",
       "3                                                                                                                                                                                                                                                         I don't know. The provided context does not mention Type 2 Diabetes or any medications for its treatment.   \n",
       "4                                                                                                                According to the context, Remeron (mirtazapine) is an antidepressant medication that also helps to improve sleep. It is used to treat depression and insomnia. Therefore, Remeron is the medication that might treat both insomnia and depression.   \n",
       "5                                                                                                                                                                                                                                                                                                                                                     I don't know.   \n",
       "6                                                                                                                                                                                                                                                                                                                                                     I don't know.   \n",
       "7                                                                                       Contraindications for Clopidogrel: Active bleeding, severe liver disease.\\n\\nContraindications for Warfarin: Active bleeding, severe liver disease, pregnancy.\\n\\nNote: These answers are based solely on the provided context and do not include any external information.   \n",
       "\n",
       "   DPR RAG time  \n",
       "0      3.263138  \n",
       "1     24.703709  \n",
       "2     26.579809  \n",
       "3     24.780622  \n",
       "4     24.313662  \n",
       "5     24.486315  \n",
       "6     24.285315  \n",
       "7     24.613664  "
      ]
     },
     "execution_count": 31,
     "metadata": {},
     "output_type": "execute_result"
    }
   ],
   "source": [
    "import pandas as pd\n",
    "\n",
    "# Set the maximum column width to a large value (e.g., 500 characters)\n",
    "pd.set_option('display.max_colwidth', 1000)  # Or even higher if needed\n",
    "\n",
    "df = pd.read_csv(path)\n",
    "df"
   ]
  },
  {
   "cell_type": "markdown",
   "metadata": {},
   "source": []
  },
  {
   "cell_type": "markdown",
   "metadata": {},
   "source": [
    "# Comparison dataset of both Techniques"
   ]
  },
  {
   "cell_type": "code",
   "execution_count": 32,
   "metadata": {},
   "outputs": [],
   "source": [
    "import pandas as pd\n",
    "\n",
    "\n",
    "path1 = \"C:/Users/mayur/Desktop/Tech/Project/FracsNet/RAG_tech_comparisons/simple_RAG.csv\"\n",
    "path2 = \"C:/Users/mayur/Desktop/Tech/Project/FracsNet/RAG_tech_comparisons/DPR_RAG.csv\"\n",
    "\n",
    "df1 = pd.read_csv(path1)\n",
    "df2 = pd.read_csv(path2)\n",
    "\n",
    "# Rename specific columns\n",
    "# df1 = df1.rename(columns={\"Answer\": \"Simple RAG result\", \"Time Taken (seconds)\": \"simple RAG time\"})\n",
    "# df2 = df2.rename(columns={\"Answer\": \"DPR RAG result\", \"Time Taken (seconds)\": \"DPR RAG time\"})"
   ]
  },
  {
   "cell_type": "code",
   "execution_count": 33,
   "metadata": {},
   "outputs": [
    {
     "data": {
      "text/html": [
       "<div>\n",
       "<style scoped>\n",
       "    .dataframe tbody tr th:only-of-type {\n",
       "        vertical-align: middle;\n",
       "    }\n",
       "\n",
       "    .dataframe tbody tr th {\n",
       "        vertical-align: top;\n",
       "    }\n",
       "\n",
       "    .dataframe thead th {\n",
       "        text-align: right;\n",
       "    }\n",
       "</style>\n",
       "<table border=\"1\" class=\"dataframe\">\n",
       "  <thead>\n",
       "    <tr style=\"text-align: right;\">\n",
       "      <th></th>\n",
       "      <th>Question</th>\n",
       "      <th>Simple RAG result</th>\n",
       "      <th>Simple RAG time</th>\n",
       "      <th>DPR RAG result</th>\n",
       "      <th>DPR RAG time</th>\n",
       "    </tr>\n",
       "  </thead>\n",
       "  <tbody>\n",
       "    <tr>\n",
       "      <th>0</th>\n",
       "      <td>Which pain reliever is LEAST suitable for someone with stomach ulcers?</td>\n",
       "      <td>Based on the context, Ibuprofen is the pain reliever that is LEAST suitable for someone with stomach ulcers. The context states that Ibuprofen has side effects such as stomach upset, nausea, and increased risk of heart attack/stroke, and it is contraindicated for individuals with a history of stomach ulcers.</td>\n",
       "      <td>0.922425</td>\n",
       "      <td>According to the context, Aspirin is mentioned as a medication used to reduce pain, fever, and inflammation. However, it is also mentioned as a medication that can cause stomach upset, bleeding, ulcers, and ringing in the ears. Therefore, it is likely that Aspirin is NOT suitable for someone with stomach ulcers.\\n\\nSo, the correct answer is: Aspirin.</td>\n",
       "      <td>3.263138</td>\n",
       "    </tr>\n",
       "    <tr>\n",
       "      <th>1</th>\n",
       "      <td>Ibuprofen and Aspirin share what warning?</td>\n",
       "      <td>Ibuprofen and Aspirin are not mentioned in the given context. However, since Ibuprofen's interactions include \"May interact with blood thinners, aspirin, other NSAIDs\", we can infer that Ibuprofen may interact with Aspirin.</td>\n",
       "      <td>0.716047</td>\n",
       "      <td>According to the context, Ibuprofen and Aspirin do not share any information as Ibuprofen is not mentioned in the context. However, Aspirin shares the warning \"Take with food to reduce stomach irritation. Avoid alcohol.\"</td>\n",
       "      <td>24.703709</td>\n",
       "    </tr>\n",
       "    <tr>\n",
       "      <th>2</th>\n",
       "      <td>Name two medications that might interact with Warfarin.</td>\n",
       "      <td>Based on the provided context, I can help you with that.\\n\\nAccording to the information, medications that might interact with Warfarin include:\\n\\n1. Aspirin (mentioned in medication summary 36): May interact with blood thinners, including Warfarin.\\n2. Clopidogrel (mentioned in medication summary 37): May interact with other medications that increase bleeding risk, including Warfarin.\\n\\nPlease note that this is based on the provided context, and it's essential to consult with a healthcare professional for personalized advice on medication interactions.</td>\n",
       "      <td>19.748091</td>\n",
       "      <td>Based on the provided context, two medications that might interact with Warfarin are:\\n\\n1. Aspirin\\n2. Antibiotics</td>\n",
       "      <td>26.579809</td>\n",
       "    </tr>\n",
       "    <tr>\n",
       "      <th>3</th>\n",
       "      <td>What is the first-line medication for Type 2 Diabetes?</td>\n",
       "      <td>I don't know.</td>\n",
       "      <td>25.330218</td>\n",
       "      <td>I don't know. The provided context does not mention Type 2 Diabetes or any medications for its treatment.</td>\n",
       "      <td>24.780622</td>\n",
       "    </tr>\n",
       "    <tr>\n",
       "      <th>4</th>\n",
       "      <td>Which medication might treat both insomnia and depression?</td>\n",
       "      <td>Based on the provided context, both Zoloft and Prozac are mentioned as treating depression, and they both have insomnia as a common side effect. Additionally, Celexa and Paxil are also mentioned as treating depression and have insomnia as a common side effect. Therefore, the answer is that all four medications (Zoloft, Prozac, Celexa, and Paxil) might treat both insomnia and depression.</td>\n",
       "      <td>19.463250</td>\n",
       "      <td>According to the context, Remeron (mirtazapine) is an antidepressant medication that also helps to improve sleep. It is used to treat depression and insomnia. Therefore, Remeron is the medication that might treat both insomnia and depression.</td>\n",
       "      <td>24.313662</td>\n",
       "    </tr>\n",
       "    <tr>\n",
       "      <th>5</th>\n",
       "      <td>Difference between bronchodilator and inhaled corticosteroid?</td>\n",
       "      <td>I don't know. The provided context only discusses specific medications (salmeterol, albuterol, ipratropium, tiotropium, and montelukast) and does not mention bronchodilators or inhaled corticosteroids in general.</td>\n",
       "      <td>25.681642</td>\n",
       "      <td>I don't know.</td>\n",
       "      <td>24.486315</td>\n",
       "    </tr>\n",
       "    <tr>\n",
       "      <th>6</th>\n",
       "      <td>Long-term side effects of Prednisone?</td>\n",
       "      <td>According to the context, the long-term use of Prednisone can have significant side effects.</td>\n",
       "      <td>25.369845</td>\n",
       "      <td>I don't know.</td>\n",
       "      <td>24.285315</td>\n",
       "    </tr>\n",
       "    <tr>\n",
       "      <th>7</th>\n",
       "      <td>Contraindications for Clopidogrel vs. Warfarin?</td>\n",
       "      <td>I don't know.\\n\\nThe context only provides information about Enoxaparin, Aspirin, Clopidogrel, and Pravastatin. There is no information about Warfarin.</td>\n",
       "      <td>24.301037</td>\n",
       "      <td>Contraindications for Clopidogrel: Active bleeding, severe liver disease.\\n\\nContraindications for Warfarin: Active bleeding, severe liver disease, pregnancy.\\n\\nNote: These answers are based solely on the provided context and do not include any external information.</td>\n",
       "      <td>24.613664</td>\n",
       "    </tr>\n",
       "  </tbody>\n",
       "</table>\n",
       "</div>"
      ],
      "text/plain": [
       "                                                                 Question  \\\n",
       "0  Which pain reliever is LEAST suitable for someone with stomach ulcers?   \n",
       "1                               Ibuprofen and Aspirin share what warning?   \n",
       "2                 Name two medications that might interact with Warfarin.   \n",
       "3                  What is the first-line medication for Type 2 Diabetes?   \n",
       "4              Which medication might treat both insomnia and depression?   \n",
       "5           Difference between bronchodilator and inhaled corticosteroid?   \n",
       "6                                   Long-term side effects of Prednisone?   \n",
       "7                         Contraindications for Clopidogrel vs. Warfarin?   \n",
       "\n",
       "                                                                                                                                                                                                                                                                                                                                                                                                                                                                                                                                                                   Simple RAG result  \\\n",
       "0                                                                                                                                                                                                                                                              Based on the context, Ibuprofen is the pain reliever that is LEAST suitable for someone with stomach ulcers. The context states that Ibuprofen has side effects such as stomach upset, nausea, and increased risk of heart attack/stroke, and it is contraindicated for individuals with a history of stomach ulcers.   \n",
       "1                                                                                                                                                                                                                                                                                                                                                    Ibuprofen and Aspirin are not mentioned in the given context. However, since Ibuprofen's interactions include \"May interact with blood thinners, aspirin, other NSAIDs\", we can infer that Ibuprofen may interact with Aspirin.   \n",
       "2  Based on the provided context, I can help you with that.\\n\\nAccording to the information, medications that might interact with Warfarin include:\\n\\n1. Aspirin (mentioned in medication summary 36): May interact with blood thinners, including Warfarin.\\n2. Clopidogrel (mentioned in medication summary 37): May interact with other medications that increase bleeding risk, including Warfarin.\\n\\nPlease note that this is based on the provided context, and it's essential to consult with a healthcare professional for personalized advice on medication interactions.   \n",
       "3                                                                                                                                                                                                                                                                                                                                                                                                                                                                                                                                                                      I don't know.   \n",
       "4                                                                                                                                                                              Based on the provided context, both Zoloft and Prozac are mentioned as treating depression, and they both have insomnia as a common side effect. Additionally, Celexa and Paxil are also mentioned as treating depression and have insomnia as a common side effect. Therefore, the answer is that all four medications (Zoloft, Prozac, Celexa, and Paxil) might treat both insomnia and depression.   \n",
       "5                                                                                                                                                                                                                                                                                                                                                               I don't know. The provided context only discusses specific medications (salmeterol, albuterol, ipratropium, tiotropium, and montelukast) and does not mention bronchodilators or inhaled corticosteroids in general.   \n",
       "6                                                                                                                                                                                                                                                                                                                                                                                                                                                                                       According to the context, the long-term use of Prednisone can have significant side effects.   \n",
       "7                                                                                                                                                                                                                                                                                                                                                                                                                            I don't know.\\n\\nThe context only provides information about Enoxaparin, Aspirin, Clopidogrel, and Pravastatin. There is no information about Warfarin.   \n",
       "\n",
       "   Simple RAG time  \\\n",
       "0         0.922425   \n",
       "1         0.716047   \n",
       "2        19.748091   \n",
       "3        25.330218   \n",
       "4        19.463250   \n",
       "5        25.681642   \n",
       "6        25.369845   \n",
       "7        24.301037   \n",
       "\n",
       "                                                                                                                                                                                                                                                                                                                                                     DPR RAG result  \\\n",
       "0  According to the context, Aspirin is mentioned as a medication used to reduce pain, fever, and inflammation. However, it is also mentioned as a medication that can cause stomach upset, bleeding, ulcers, and ringing in the ears. Therefore, it is likely that Aspirin is NOT suitable for someone with stomach ulcers.\\n\\nSo, the correct answer is: Aspirin.   \n",
       "1                                                                                                                                      According to the context, Ibuprofen and Aspirin do not share any information as Ibuprofen is not mentioned in the context. However, Aspirin shares the warning \"Take with food to reduce stomach irritation. Avoid alcohol.\"   \n",
       "2                                                                                                                                                                                                                                               Based on the provided context, two medications that might interact with Warfarin are:\\n\\n1. Aspirin\\n2. Antibiotics   \n",
       "3                                                                                                                                                                                                                                                         I don't know. The provided context does not mention Type 2 Diabetes or any medications for its treatment.   \n",
       "4                                                                                                                According to the context, Remeron (mirtazapine) is an antidepressant medication that also helps to improve sleep. It is used to treat depression and insomnia. Therefore, Remeron is the medication that might treat both insomnia and depression.   \n",
       "5                                                                                                                                                                                                                                                                                                                                                     I don't know.   \n",
       "6                                                                                                                                                                                                                                                                                                                                                     I don't know.   \n",
       "7                                                                                       Contraindications for Clopidogrel: Active bleeding, severe liver disease.\\n\\nContraindications for Warfarin: Active bleeding, severe liver disease, pregnancy.\\n\\nNote: These answers are based solely on the provided context and do not include any external information.   \n",
       "\n",
       "   DPR RAG time  \n",
       "0      3.263138  \n",
       "1     24.703709  \n",
       "2     26.579809  \n",
       "3     24.780622  \n",
       "4     24.313662  \n",
       "5     24.486315  \n",
       "6     24.285315  \n",
       "7     24.613664  "
      ]
     },
     "execution_count": 33,
     "metadata": {},
     "output_type": "execute_result"
    }
   ],
   "source": [
    "# Merge the DataFrames on the common column\n",
    "merged_df = pd.merge(df1, df2, on='Question', how='inner')  # You can change 'how' to 'left', 'right', or 'outer'\n",
    "merged_df"
   ]
  },
  {
   "cell_type": "code",
   "execution_count": null,
   "metadata": {},
   "outputs": [],
   "source": []
  },
  {
   "cell_type": "markdown",
   "metadata": {},
   "source": [
    "# Modular RAG"
   ]
  },
  {
   "cell_type": "code",
   "execution_count": null,
   "metadata": {},
   "outputs": [],
   "source": []
  },
  {
   "cell_type": "code",
   "execution_count": null,
   "metadata": {},
   "outputs": [],
   "source": []
  },
  {
   "cell_type": "code",
   "execution_count": null,
   "metadata": {},
   "outputs": [],
   "source": []
  },
  {
   "cell_type": "markdown",
   "metadata": {},
   "source": [
    "# Graph RAG"
   ]
  },
  {
   "cell_type": "code",
   "execution_count": null,
   "metadata": {},
   "outputs": [],
   "source": []
  },
  {
   "cell_type": "code",
   "execution_count": null,
   "metadata": {},
   "outputs": [],
   "source": []
  },
  {
   "cell_type": "code",
   "execution_count": null,
   "metadata": {},
   "outputs": [],
   "source": []
  },
  {
   "cell_type": "code",
   "execution_count": null,
   "metadata": {},
   "outputs": [],
   "source": []
  },
  {
   "cell_type": "code",
   "execution_count": null,
   "metadata": {},
   "outputs": [],
   "source": []
  },
  {
   "cell_type": "code",
   "execution_count": null,
   "metadata": {},
   "outputs": [],
   "source": []
  },
  {
   "cell_type": "code",
   "execution_count": null,
   "metadata": {},
   "outputs": [],
   "source": []
  },
  {
   "cell_type": "code",
   "execution_count": null,
   "metadata": {},
   "outputs": [],
   "source": []
  },
  {
   "cell_type": "code",
   "execution_count": null,
   "metadata": {},
   "outputs": [],
   "source": []
  },
  {
   "cell_type": "code",
   "execution_count": null,
   "metadata": {},
   "outputs": [],
   "source": []
  },
  {
   "cell_type": "code",
   "execution_count": null,
   "metadata": {},
   "outputs": [],
   "source": []
  },
  {
   "cell_type": "code",
   "execution_count": null,
   "metadata": {},
   "outputs": [],
   "source": []
  },
  {
   "cell_type": "code",
   "execution_count": null,
   "metadata": {},
   "outputs": [],
   "source": []
  },
  {
   "cell_type": "code",
   "execution_count": null,
   "metadata": {},
   "outputs": [],
   "source": []
  },
  {
   "cell_type": "code",
   "execution_count": null,
   "metadata": {},
   "outputs": [],
   "source": []
  },
  {
   "cell_type": "code",
   "execution_count": null,
   "metadata": {},
   "outputs": [],
   "source": []
  },
  {
   "cell_type": "code",
   "execution_count": null,
   "metadata": {},
   "outputs": [],
   "source": []
  },
  {
   "cell_type": "code",
   "execution_count": null,
   "metadata": {},
   "outputs": [],
   "source": []
  },
  {
   "cell_type": "code",
   "execution_count": null,
   "metadata": {},
   "outputs": [],
   "source": []
  },
  {
   "cell_type": "code",
   "execution_count": null,
   "metadata": {},
   "outputs": [],
   "source": []
  },
  {
   "cell_type": "code",
   "execution_count": null,
   "metadata": {},
   "outputs": [],
   "source": []
  },
  {
   "cell_type": "code",
   "execution_count": null,
   "metadata": {},
   "outputs": [],
   "source": []
  },
  {
   "cell_type": "code",
   "execution_count": null,
   "metadata": {},
   "outputs": [],
   "source": []
  },
  {
   "cell_type": "code",
   "execution_count": null,
   "metadata": {},
   "outputs": [],
   "source": []
  },
  {
   "cell_type": "code",
   "execution_count": null,
   "metadata": {},
   "outputs": [],
   "source": []
  },
  {
   "cell_type": "code",
   "execution_count": null,
   "metadata": {},
   "outputs": [],
   "source": []
  },
  {
   "cell_type": "code",
   "execution_count": null,
   "metadata": {},
   "outputs": [],
   "source": []
  },
  {
   "cell_type": "code",
   "execution_count": null,
   "metadata": {},
   "outputs": [],
   "source": []
  },
  {
   "cell_type": "code",
   "execution_count": null,
   "metadata": {},
   "outputs": [],
   "source": []
  },
  {
   "cell_type": "code",
   "execution_count": null,
   "metadata": {},
   "outputs": [],
   "source": []
  },
  {
   "cell_type": "code",
   "execution_count": null,
   "metadata": {},
   "outputs": [],
   "source": []
  },
  {
   "cell_type": "code",
   "execution_count": null,
   "metadata": {},
   "outputs": [],
   "source": []
  },
  {
   "cell_type": "code",
   "execution_count": null,
   "metadata": {},
   "outputs": [],
   "source": []
  },
  {
   "cell_type": "code",
   "execution_count": null,
   "metadata": {},
   "outputs": [],
   "source": []
  },
  {
   "cell_type": "code",
   "execution_count": null,
   "metadata": {},
   "outputs": [],
   "source": []
  },
  {
   "cell_type": "code",
   "execution_count": null,
   "metadata": {},
   "outputs": [],
   "source": []
  },
  {
   "cell_type": "code",
   "execution_count": null,
   "metadata": {},
   "outputs": [],
   "source": []
  },
  {
   "cell_type": "code",
   "execution_count": null,
   "metadata": {},
   "outputs": [],
   "source": []
  },
  {
   "cell_type": "code",
   "execution_count": null,
   "metadata": {},
   "outputs": [],
   "source": []
  },
  {
   "cell_type": "code",
   "execution_count": null,
   "metadata": {},
   "outputs": [],
   "source": []
  },
  {
   "cell_type": "code",
   "execution_count": null,
   "metadata": {},
   "outputs": [],
   "source": []
  },
  {
   "cell_type": "code",
   "execution_count": null,
   "metadata": {},
   "outputs": [],
   "source": []
  },
  {
   "cell_type": "code",
   "execution_count": null,
   "metadata": {},
   "outputs": [],
   "source": []
  },
  {
   "cell_type": "code",
   "execution_count": null,
   "metadata": {},
   "outputs": [],
   "source": []
  },
  {
   "cell_type": "code",
   "execution_count": null,
   "metadata": {},
   "outputs": [],
   "source": []
  },
  {
   "cell_type": "code",
   "execution_count": null,
   "metadata": {},
   "outputs": [],
   "source": []
  },
  {
   "cell_type": "code",
   "execution_count": null,
   "metadata": {},
   "outputs": [],
   "source": []
  },
  {
   "cell_type": "code",
   "execution_count": null,
   "metadata": {},
   "outputs": [],
   "source": []
  },
  {
   "cell_type": "code",
   "execution_count": null,
   "metadata": {},
   "outputs": [],
   "source": []
  },
  {
   "cell_type": "code",
   "execution_count": null,
   "metadata": {},
   "outputs": [],
   "source": []
  },
  {
   "cell_type": "code",
   "execution_count": null,
   "metadata": {},
   "outputs": [],
   "source": []
  },
  {
   "cell_type": "code",
   "execution_count": null,
   "metadata": {},
   "outputs": [],
   "source": []
  },
  {
   "cell_type": "code",
   "execution_count": null,
   "metadata": {},
   "outputs": [],
   "source": []
  },
  {
   "cell_type": "code",
   "execution_count": null,
   "metadata": {},
   "outputs": [],
   "source": []
  },
  {
   "cell_type": "code",
   "execution_count": null,
   "metadata": {},
   "outputs": [],
   "source": []
  },
  {
   "cell_type": "code",
   "execution_count": null,
   "metadata": {},
   "outputs": [],
   "source": []
  },
  {
   "cell_type": "code",
   "execution_count": null,
   "metadata": {},
   "outputs": [],
   "source": []
  },
  {
   "cell_type": "code",
   "execution_count": null,
   "metadata": {},
   "outputs": [],
   "source": []
  },
  {
   "cell_type": "code",
   "execution_count": null,
   "metadata": {},
   "outputs": [],
   "source": []
  },
  {
   "cell_type": "code",
   "execution_count": null,
   "metadata": {},
   "outputs": [],
   "source": []
  },
  {
   "cell_type": "code",
   "execution_count": null,
   "metadata": {},
   "outputs": [],
   "source": []
  },
  {
   "cell_type": "code",
   "execution_count": null,
   "metadata": {},
   "outputs": [],
   "source": []
  },
  {
   "cell_type": "code",
   "execution_count": null,
   "metadata": {},
   "outputs": [],
   "source": []
  },
  {
   "cell_type": "code",
   "execution_count": null,
   "metadata": {},
   "outputs": [],
   "source": []
  },
  {
   "cell_type": "code",
   "execution_count": null,
   "metadata": {},
   "outputs": [],
   "source": []
  },
  {
   "cell_type": "code",
   "execution_count": null,
   "metadata": {},
   "outputs": [],
   "source": []
  },
  {
   "cell_type": "code",
   "execution_count": null,
   "metadata": {},
   "outputs": [],
   "source": []
  },
  {
   "cell_type": "code",
   "execution_count": null,
   "metadata": {},
   "outputs": [],
   "source": []
  },
  {
   "cell_type": "code",
   "execution_count": null,
   "metadata": {},
   "outputs": [],
   "source": []
  },
  {
   "cell_type": "code",
   "execution_count": null,
   "metadata": {},
   "outputs": [],
   "source": []
  },
  {
   "cell_type": "code",
   "execution_count": null,
   "metadata": {},
   "outputs": [],
   "source": []
  },
  {
   "cell_type": "code",
   "execution_count": null,
   "metadata": {},
   "outputs": [],
   "source": []
  },
  {
   "cell_type": "code",
   "execution_count": null,
   "metadata": {},
   "outputs": [],
   "source": []
  }
 ],
 "metadata": {
  "kernelspec": {
   "display_name": "Python 3",
   "language": "python",
   "name": "python3"
  },
  "language_info": {
   "codemirror_mode": {
    "name": "ipython",
    "version": 3
   },
   "file_extension": ".py",
   "mimetype": "text/x-python",
   "name": "python",
   "nbconvert_exporter": "python",
   "pygments_lexer": "ipython3",
   "version": "3.11.9"
  }
 },
 "nbformat": 4,
 "nbformat_minor": 2
}
