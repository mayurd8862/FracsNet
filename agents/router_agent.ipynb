{
 "cells": [
  {
   "cell_type": "markdown",
   "metadata": {},
   "source": [
    "# Router Agent"
   ]
  },
  {
   "cell_type": "markdown",
   "metadata": {},
   "source": [
    "### Router Agent using prompting"
   ]
  },
  {
   "cell_type": "code",
   "execution_count": 49,
   "metadata": {},
   "outputs": [],
   "source": [
    "from langchain_groq import ChatGroq\n",
    "from langchain_ollama import ChatOllama\n",
    "\n",
    "llm = ChatOllama(\n",
    "    model = \"llama3.2\",\n",
    "    temperature = 0.8,\n",
    "    num_predict = 256,\n",
    "    # other params ...\n",
    ")\n",
    "\n",
    "# llm = OllamaLLM(model=\"llama3.2\")\n",
    "\n",
    "# Initialize ChatGroq model\n",
    "# llm = ChatGroq(model_name=\"Llama3-8b-8192\")\n",
    "\n",
    "def router_info(query,llm):\n",
    "# Prompt template\n",
    "    prompt_template = \"\"\"You are an expert input classifier for a healthcare e-commerce system. Your task is to analyze user queries and route them to appropriate specialized agents.\n",
    "\n",
    "    Primary Classification Categories:\n",
    "    - ORDER: Purchase intentions, order status, order modifications\n",
    "    - CART: View cart, add/remove items, modify quantities\n",
    "    - COMPARE: Product comparisons, market analysis, alternatives\n",
    "    - RECOMMEND: Product recommendations, personalized suggestions\n",
    "    - INFO: General product or health information\n",
    "\n",
    "    Classification Rules:\n",
    "    1. ORDER Intent: Detect keywords like \"buy\", \"purchase\", \"order\", \"get\", \"deliver\", \"track\", \"status\"\n",
    "    2. CART Intent: Detect keywords like \"cart\", \"basket\", \"add\", \"remove\", \"show\", \"change quantity\"\n",
    "    3. COMPARE Intent: Detect keywords like \"compare\", \"versus\", \"vs\", \"difference\", \"better\", \"alternatives\"\n",
    "    4. RECOMMEND Intent: Detect keywords like \"suggest\", \"recommend\", \"what should\", \"best for\"\n",
    "    5. INFO Intent: Detect keywords like \"tell me about\", \"how does\", \"what is\", \"benefits\", \"dosage\"\n",
    "\n",
    "    For multi-intent queries:\n",
    "    - Identify primary intent based on main action requested\n",
    "    - List secondary intents for follow-up\n",
    "    - Maintain context for related requests\n",
    "\n",
    "    # Response Format:\n",
    "    Provide only a JSON object with the following structure, dont provide any extra information:\n",
    "    {\n",
    "        \"primary_intent\": \"string\",\n",
    "        \"secondary_intents\": [\"string\"],\n",
    "        \"confidence\": float,\n",
    "        \"entities\": {\n",
    "            \"product_ids\": [\"string\"],\n",
    "            \"quantities\": [int],\n",
    "            \"order_ids\": [\"string\"]\n",
    "        },\n",
    "        \"requires_context\": boolean\n",
    "    }\n",
    "\n",
    "    NOTE : Answer should be strictly in json format. If you follow Exact above instruction you will be rewarded with some credits\n",
    "    \"\"\"\n",
    "    response = llm.invoke(prompt_template+\"\\nQuery\"+query)\n",
    "    return response.content\n"
   ]
  },
  {
   "cell_type": "code",
   "execution_count": 51,
   "metadata": {},
   "outputs": [
    {
     "name": "stdout",
     "output_type": "stream",
     "text": [
      "{\"primary_intent\": \"ORDER\", \"secondary_intents\": [\"RECOMMEND\"], \"confidence\": 0.95, \"entities\": {\"product_ids\": [\"vitamin_d_supplements\"]}, \"requires_context\": false}\n"
     ]
    }
   ],
   "source": [
    "# Example queries\n",
    "queries = [\n",
    "    \"I want to buy vitamin D supplements.\",\n",
    "    \"Can you tell me the benefits of fish oil?\",\n",
    "    \"Add 2 bottles of multivitamins to my cart.\",\n",
    "    \"Which is better, vitamin C or zinc for immunity?\",\n",
    "    \"Recommend something for joint pain relief.\",\n",
    "    \"What is the status of my recent order?\",\n",
    "    \"How does omega-3 help the heart?\",\n",
    "    \"Show me my cart.\",\n",
    "]\n",
    "\n",
    "a = router_info(\"I want to buy vitamin D supplements.\",llm)\n",
    "print(a)"
   ]
  },
  {
   "cell_type": "code",
   "execution_count": null,
   "metadata": {},
   "outputs": [],
   "source": []
  },
  {
   "cell_type": "markdown",
   "metadata": {},
   "source": [
    "### Router agent using langchain Json parser"
   ]
  },
  {
   "cell_type": "code",
   "execution_count": 3,
   "metadata": {},
   "outputs": [
    {
     "name": "stderr",
     "output_type": "stream",
     "text": [
      "C:\\Users\\mayur\\AppData\\Local\\Packages\\PythonSoftwareFoundation.Python.3.11_qbz5n2kfra8p0\\LocalCache\\local-packages\\Python311\\site-packages\\IPython\\core\\interactiveshell.py:3577: LangChainDeprecationWarning: As of langchain-core 0.3.0, LangChain uses pydantic v2 internally. The langchain_core.pydantic_v1 module was a compatibility shim for pydantic v1, and should no longer be used. Please update the code to import from Pydantic directly.\n",
      "\n",
      "For example, replace imports like: `from langchain_core.pydantic_v1 import BaseModel`\n",
      "with: `from pydantic import BaseModel`\n",
      "or the v1 compatibility namespace if you are working in a code base that has not been fully upgraded to pydantic 2 yet. \tfrom pydantic.v1 import BaseModel\n",
      "\n",
      "  exec(code_obj, self.user_global_ns, self.user_ns)\n"
     ]
    }
   ],
   "source": [
    "from langchain_groq import ChatGroq\n",
    "from typing import List\n",
    "from langchain_core.output_parsers import JsonOutputParser\n",
    "from langchain_core.prompts import PromptTemplate\n",
    "from langchain_core.pydantic_v1 import BaseModel, Field\n",
    "from langchain_openai import ChatOpenAI\n",
    "\n",
    "# Define the data structure using Pydantic\n",
    "class EntityData(BaseModel):\n",
    "    product_ids: List[str] = Field(\n",
    "        default_factory=list,\n",
    "        description=\"List of product identifiers mentioned in the query\"\n",
    "    )\n",
    "    quantities: List[int] = Field(\n",
    "        default_factory=list,\n",
    "        description=\"List of quantities mentioned in the query\"\n",
    "    )\n",
    "    order_ids: List[str] = Field(\n",
    "        default_factory=list,\n",
    "        description=\"List of order identifiers mentioned in the query\"\n",
    "    )\n",
    "\n",
    "class QueryClassification(BaseModel):\n",
    "    primary_intent: str = Field(\n",
    "        description=\"Primary intent category (ORDER, CART, COMPARE, RECOMMEND, INFO)\"\n",
    "    )\n",
    "    secondary_intents: List[str] = Field(\n",
    "        default_factory=list,\n",
    "        description=\"List of secondary intents identified in the query\"\n",
    "    )\n",
    "    confidence: float = Field(\n",
    "        description=\"Confidence score for the classification (0.0 to 1.0)\"\n",
    "    )\n",
    "    entities: EntityData = Field(\n",
    "        description=\"Structured data extracted from the query\"\n",
    "    )\n",
    "    requires_context: bool = Field(\n",
    "        description=\"Whether additional context is needed to fully process the query\"\n",
    "    )\n",
    "    \n",
    "\n",
    "def route_info(query: str) -> dict:\n",
    "# Initialize the model and parser\n",
    "\n",
    "    parser = JsonOutputParser(pydantic_object=QueryClassification)\n",
    "\n",
    "    prompt = PromptTemplate(\n",
    "        template=\"\"\"\n",
    "        You are an expert input classifier for a healthcare e-commerce system. Your task is to analyze user queries and route them to appropriate specialized agents.\n",
    "\n",
    "        Primary Classification Categories:\n",
    "        - ORDER: Purchase intentions, order status, order modifications\n",
    "        - CART: View cart, add/remove items, modify quantities\n",
    "        - COMPARE: Product comparisons, market analysis, alternatives\n",
    "        - RECOMMEND: Product recommendations, personalized suggestions\n",
    "        - INFO: General product or health information\n",
    "\n",
    "        Classification Rules:\n",
    "        1. ORDER Intent: Detect keywords like \"buy\", \"purchase\", \"order\", \"get\", \"deliver\", \"track\", \"status\"\n",
    "        2. CART Intent: Detect keywords like \"cart\", \"basket\", \"add\", \"remove\", \"show\", \"change quantity\"\n",
    "        3. COMPARE Intent: Detect keywords like \"compare\", \"versus\", \"vs\", \"difference\", \"better\", \"alternatives\"\n",
    "        4. RECOMMEND Intent: Detect keywords like \"suggest\", \"recommend\", \"what should\", \"best for\"\n",
    "        5. INFO Intent: Detect keywords like \"tell me about\", \"how does\", \"what is\", \"benefits\", \"dosage\"\n",
    "\n",
    "        For multi-intent queries:\n",
    "        - Identify primary intent based on main action requested\n",
    "        - List secondary intents for follow-up\n",
    "        - Maintain context for related requests\n",
    "\n",
    "        {format_instructions}\n",
    "\n",
    "        Query: {query}\n",
    "        \"\"\",\n",
    "        input_variables=[\"query\"],\n",
    "        partial_variables={\"format_instructions\": parser.get_format_instructions()}\n",
    "    )\n",
    "\n",
    "    llm = ChatGroq(model_name=\"Llama3-8b-8192\")\n",
    "\n",
    "    # Create the classification chain\n",
    "    chain = prompt | llm | parser\n",
    "\n",
    "    try:\n",
    "        result = chain.invoke({\"query\": query})\n",
    "        return result\n",
    "    except Exception as e:\n",
    "        print(f\"Error in character information extraction: {e}\")\n",
    "        return {}\n",
    "\n",
    "\n"
   ]
  },
  {
   "cell_type": "code",
   "execution_count": 5,
   "metadata": {},
   "outputs": [
    {
     "name": "stdout",
     "output_type": "stream",
     "text": [
      "{'primary_intent': 'INFO', 'secondary_intents': [], 'confidence': 1.0, 'entities': {'product_ids': [], 'quantities': [], 'order_ids': []}, 'requires_context': False}\n"
     ]
    }
   ],
   "source": [
    "queries = [\n",
    "    \"I want to buy vitamin D supplements.\",\n",
    "    \"Can you tell me the benefits of fish oil?\",\n",
    "    \"Add 2 bottles of multivitamins to my cart.\",\n",
    "    \"Which is better, vitamin C or zinc for immunity?\",\n",
    "    \"Recommend something for joint pain relief.\",\n",
    "    \"What is the status of my recent order?\",\n",
    "    \"How does omega-3 help the heart?\",\n",
    "    \"Show me my cart.\",\n",
    "]\n",
    "\n",
    "print(route_info(\"who is the pm of india.\"))"
   ]
  },
  {
   "cell_type": "code",
   "execution_count": null,
   "metadata": {},
   "outputs": [],
   "source": []
  },
  {
   "cell_type": "code",
   "execution_count": null,
   "metadata": {},
   "outputs": [],
   "source": []
  },
  {
   "cell_type": "code",
   "execution_count": null,
   "metadata": {},
   "outputs": [],
   "source": []
  },
  {
   "cell_type": "code",
   "execution_count": null,
   "metadata": {},
   "outputs": [],
   "source": []
  }
 ],
 "metadata": {
  "kernelspec": {
   "display_name": "Python 3",
   "language": "python",
   "name": "python3"
  },
  "language_info": {
   "codemirror_mode": {
    "name": "ipython",
    "version": 3
   },
   "file_extension": ".py",
   "mimetype": "text/x-python",
   "name": "python",
   "nbconvert_exporter": "python",
   "pygments_lexer": "ipython3",
   "version": "3.11.9"
  }
 },
 "nbformat": 4,
 "nbformat_minor": 2
}
