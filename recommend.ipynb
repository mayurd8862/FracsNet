{
 "cells": [
  {
   "cell_type": "code",
   "execution_count": 9,
   "id": "ae45d2da",
   "metadata": {},
   "outputs": [
    {
     "data": {
      "text/plain": [
       "True"
      ]
     },
     "execution_count": 9,
     "metadata": {},
     "output_type": "execute_result"
    }
   ],
   "source": [
    "import streamlit as st\n",
    "import requests\n",
    "import pymongo\n",
    "import pandas as pd\n",
    "import base64\n",
    "import os\n",
    "from langchain_groq import ChatGroq\n",
    "import re\n",
    "from dotenv import load_dotenv\n",
    "from neo4j import GraphDatabase\n",
    "from PIL import Image\n",
    "from io import BytesIO\n",
    "from langchain_ollama import OllamaLLM\n",
    "from langchain.agents import initialize_agent, Tool\n",
    "from langchain.agents.agent_types import AgentType\n",
    "from langchain.memory import ConversationBufferMemory\n",
    "from langchain_huggingface import HuggingFaceEmbeddings\n",
    "from langchain_google_community import GoogleSearchAPIWrapper\n",
    "\n",
    "load_dotenv()\n",
    "# Styling"
   ]
  },
  {
   "cell_type": "code",
   "execution_count": 3,
   "id": "542f079e",
   "metadata": {},
   "outputs": [],
   "source": [
    "driver = GraphDatabase.driver(\n",
    "    os.getenv(\"NEO4J_URI\"),\n",
    "    auth=(os.getenv(\"NEO4J_USER\"), os.getenv(\"NEO4J_PASSWORD\"))\n",
    ")\n"
   ]
  },
  {
   "cell_type": "code",
   "execution_count": 5,
   "id": "4b552e67",
   "metadata": {},
   "outputs": [],
   "source": [
    "client = pymongo.MongoClient(os.getenv(\"MONGO_URI\"))\n",
    "db = client[\"fracsnet\"]\n",
    "users_col = db[\"users\"]\n",
    "products_col = db[\"products\"]\n",
    "interactions_col = db[\"interactions\"]\n",
    "chat_history_col = db[\"chat_history\"]"
   ]
  },
  {
   "cell_type": "code",
   "execution_count": 4,
   "id": "6e180d52",
   "metadata": {},
   "outputs": [],
   "source": [
    "df = pd.read_csv(\"./knowledge/Cleaned_Dataset.csv\").fillna(\"\")\n",
    "df[\"combined_text\"] = df[[\"ProductName\", \"Nutrient_category\",\"Description\",\"Formulated_For\",\"HealthConcern\", \"Benefits\"]].astype(str).agg(\" \".join, axis=1)"
   ]
  },
  {
   "cell_type": "code",
   "execution_count": null,
   "id": "f8cbfec6",
   "metadata": {},
   "outputs": [
    {
     "name": "stderr",
     "output_type": "stream",
     "text": [
      "C:\\Users\\mayur\\AppData\\Local\\Packages\\PythonSoftwareFoundation.Python.3.11_qbz5n2kfra8p0\\LocalCache\\local-packages\\Python311\\site-packages\\tqdm\\auto.py:21: TqdmWarning: IProgress not found. Please update jupyter and ipywidgets. See https://ipywidgets.readthedocs.io/en/stable/user_install.html\n",
      "  from .autonotebook import tqdm as notebook_tqdm\n"
     ]
    },
    {
     "name": "stdout",
     "output_type": "stream",
     "text": [
      "WARNING:tensorflow:From C:\\Users\\mayur\\AppData\\Local\\Packages\\PythonSoftwareFoundation.Python.3.11_qbz5n2kfra8p0\\LocalCache\\local-packages\\Python311\\site-packages\\tf_keras\\src\\losses.py:2976: The name tf.losses.sparse_softmax_cross_entropy is deprecated. Please use tf.compat.v1.losses.sparse_softmax_cross_entropy instead.\n",
      "\n"
     ]
    },
    {
     "name": "stderr",
     "output_type": "stream",
     "text": [
      "C:\\Users\\mayur\\AppData\\Local\\Temp\\ipykernel_5748\\1155927723.py:5: LangChainDeprecationWarning: Please see the migration guide at: https://python.langchain.com/docs/versions/migrating_memory/\n",
      "  memory = ConversationBufferMemory(memory_key=\"chat_history\", return_messages=True)\n"
     ]
    }
   ],
   "source": [
    "# Models\n",
    "embedding_model = HuggingFaceEmbeddings(model_name=\"sentence-transformers/all-MiniLM-L6-v2\")\n",
    "# llm = OllamaLLM(model=\"qwen:4b\", base_url=\"http://localhost:11434\")\n",
    "llm = ChatGroq(model_name=\"llama-3.3-70b-versatile\")\n",
    "memory = ConversationBufferMemory(memory_key=\"chat_history\", return_messages=True)\n"
   ]
  },
  {
   "cell_type": "code",
   "execution_count": 10,
   "id": "a855330c",
   "metadata": {},
   "outputs": [],
   "source": [
    "search = GoogleSearchAPIWrapper(\n",
    "    google_api_key=os.getenv(\"GOOGLE_API_KEY\"),\n",
    "    google_cse_id=os.getenv(\"GOOGLE_CSE_ID\")\n",
    ")"
   ]
  },
  {
   "cell_type": "code",
   "execution_count": 12,
   "id": "d5f7255e",
   "metadata": {},
   "outputs": [],
   "source": [
    "# Recommendation logic\n",
    "def get_neo4j_recommendations(query_text, top_k=5):\n",
    "    query_embedding = embedding_model.embed_query(query_text)\n",
    "    keywords = set(query_text.lower().split())\n",
    "\n",
    "    with driver.session() as session:\n",
    "        results = session.run(\"\"\"\n",
    "            CALL db.index.vector.queryNodes('product_embeddings', $top_k, $embedding)\n",
    "            YIELD node, score\n",
    "            RETURN node.ProductName AS name,\n",
    "                   node.Description AS description,\n",
    "                   node.ProductImage AS image,\n",
    "                   node.PdfLink AS pdf_link,\n",
    "                   node.Benefits AS benefits,\n",
    "                   node.HealthConcern AS concern,\n",
    "                   score\n",
    "        \"\"\", top_k=top_k * 3, embedding=query_embedding)\n",
    "\n",
    "        filtered = []\n",
    "        for record in results:\n",
    "            item = dict(record)\n",
    "            text_blob = \" \".join([str(item.get(\"description\", \"\")), str(item.get(\"concern\", \"\")), str(item.get(\"benefits\", \"\"))]).lower()\n",
    "            overlap = keywords.intersection(set(text_blob.split()))\n",
    "            adjusted_score = item[\"score\"] + 0.5 * len(overlap)\n",
    "            if overlap or item[\"score\"] > 0.75:\n",
    "                item[\"adjusted_score\"] = adjusted_score\n",
    "                filtered.append(item)\n",
    "\n",
    "        return sorted(filtered, key=lambda x: x[\"adjusted_score\"], reverse=True)[:top_k]\n",
    "\n",
    "def get_user_based_recommendations(username, top_k=3):\n",
    "    user_interactions = interactions_col.find({\"username\": username})\n",
    "    product_names = [ui[\"product_name\"] for ui in user_interactions]\n",
    "    if not product_names:\n",
    "        return None\n",
    "    df_user = df[df[\"ProductName\"].isin(product_names)]\n",
    "    combined_keywords = \" \".join(df_user[\"combined_text\"].tolist())\n",
    "    return get_neo4j_recommendations(combined_keywords, top_k=top_k)"
   ]
  },
  {
   "cell_type": "code",
   "execution_count": 11,
   "id": "bdb63abd",
   "metadata": {},
   "outputs": [],
   "source": [
    "def hybrid_recommendation_tool(username, user_query):\n",
    "    user = users_col.find_one({\"username\": username})\n",
    "    query_text = f\"Health condition: {user_query}. Age: {user['age']}, Gender: {user['gender']}. Looking for effective supplements or natural remedies.\"\n",
    "    hybrid = get_neo4j_recommendations(query_text)\n",
    "    user_cf = get_user_based_recommendations(username)\n",
    "    if user_cf:\n",
    "        hybrid.extend([item for item in user_cf if item[\"name\"] not in {c[\"name\"] for c in hybrid}])\n",
    "    seen = set()\n",
    "    final = []\n",
    "    for item in hybrid:\n",
    "        if item[\"name\"] not in seen:\n",
    "            seen.add(item[\"name\"])\n",
    "            final.append(item)\n",
    "        if len(final) >= 3:\n",
    "            break\n",
    "    return final or [search.run(user_query)]"
   ]
  },
  {
   "cell_type": "code",
   "execution_count": null,
   "id": "3ac2bed7",
   "metadata": {},
   "outputs": [
    {
     "ename": "TypeError",
     "evalue": "'NoneType' object is not subscriptable",
     "output_type": "error",
     "traceback": [
      "\u001b[1;31m---------------------------------------------------------------------------\u001b[0m",
      "\u001b[1;31mTypeError\u001b[0m                                 Traceback (most recent call last)",
      "Cell \u001b[1;32mIn[14], line 1\u001b[0m\n\u001b[1;32m----> 1\u001b[0m \u001b[43mhybrid_recommendation_tool\u001b[49m\u001b[43m(\u001b[49m\u001b[38;5;124;43m\"\u001b[39;49m\u001b[38;5;124;43msaloni\u001b[39;49m\u001b[38;5;124;43m\"\u001b[39;49m\u001b[43m,\u001b[49m\u001b[43m \u001b[49m\u001b[38;5;124;43m\"\u001b[39;49m\u001b[38;5;124;43mrecommend me a supplement for diabetes\u001b[39;49m\u001b[38;5;124;43m\"\u001b[39;49m\u001b[43m)\u001b[49m\n",
      "Cell \u001b[1;32mIn[11], line 3\u001b[0m, in \u001b[0;36mhybrid_recommendation_tool\u001b[1;34m(username, user_query)\u001b[0m\n\u001b[0;32m      1\u001b[0m \u001b[38;5;28;01mdef\u001b[39;00m \u001b[38;5;21mhybrid_recommendation_tool\u001b[39m(username, user_query):\n\u001b[0;32m      2\u001b[0m     user \u001b[38;5;241m=\u001b[39m users_col\u001b[38;5;241m.\u001b[39mfind_one({\u001b[38;5;124m\"\u001b[39m\u001b[38;5;124musername\u001b[39m\u001b[38;5;124m\"\u001b[39m: username})\n\u001b[1;32m----> 3\u001b[0m     query_text \u001b[38;5;241m=\u001b[39m \u001b[38;5;124mf\u001b[39m\u001b[38;5;124m\"\u001b[39m\u001b[38;5;124mHealth condition: \u001b[39m\u001b[38;5;132;01m{\u001b[39;00muser_query\u001b[38;5;132;01m}\u001b[39;00m\u001b[38;5;124m. Age: \u001b[39m\u001b[38;5;132;01m{\u001b[39;00m\u001b[43muser\u001b[49m\u001b[43m[\u001b[49m\u001b[38;5;124;43m'\u001b[39;49m\u001b[38;5;124;43mage\u001b[39;49m\u001b[38;5;124;43m'\u001b[39;49m\u001b[43m]\u001b[49m\u001b[38;5;132;01m}\u001b[39;00m\u001b[38;5;124m, Gender: \u001b[39m\u001b[38;5;132;01m{\u001b[39;00muser[\u001b[38;5;124m'\u001b[39m\u001b[38;5;124mgender\u001b[39m\u001b[38;5;124m'\u001b[39m]\u001b[38;5;132;01m}\u001b[39;00m\u001b[38;5;124m. Looking for effective supplements or natural remedies.\u001b[39m\u001b[38;5;124m\"\u001b[39m\n\u001b[0;32m      4\u001b[0m     hybrid \u001b[38;5;241m=\u001b[39m get_neo4j_recommendations(query_text)\n\u001b[0;32m      5\u001b[0m     user_cf \u001b[38;5;241m=\u001b[39m get_user_based_recommendations(username)\n",
      "\u001b[1;31mTypeError\u001b[0m: 'NoneType' object is not subscriptable"
     ]
    },
    {
     "ename": "",
     "evalue": "",
     "output_type": "error",
     "traceback": [
      "\u001b[1;31mThe Kernel crashed while executing code in the current cell or a previous cell. \n",
      "\u001b[1;31mPlease review the code in the cell(s) to identify a possible cause of the failure. \n",
      "\u001b[1;31mClick <a href='https://aka.ms/vscodeJupyterKernelCrash'>here</a> for more info. \n",
      "\u001b[1;31mView Jupyter <a href='command:jupyter.viewOutput'>log</a> for further details."
     ]
    }
   ],
   "source": [
    "hybrid_recommendation_tool(\"saloni\", \"recommend me a supplement for diabetes\")"
   ]
  },
  {
   "cell_type": "code",
   "execution_count": 6,
   "id": "741da7f8",
   "metadata": {},
   "outputs": [],
   "source": [
    "# Core health agent functions (no Streamlit UI)\n",
    "import pymongo\n",
    "import pandas as pd\n",
    "import base64\n",
    "import os\n",
    "from langchain_groq import ChatGroq\n",
    "from dotenv import load_dotenv\n",
    "from neo4j import GraphDatabase\n",
    "from PIL import Image\n",
    "from io import BytesIO\n",
    "from langchain_ollama import OllamaLLM\n",
    "from langchain.agents import initialize_agent, Tool\n",
    "from langchain.agents.agent_types import AgentType\n",
    "from langchain.memory import ConversationBufferMemory\n",
    "from langchain_huggingface import HuggingFaceEmbeddings\n",
    "from langchain_google_community import GoogleSearchAPIWrapper\n",
    "\n",
    "# Load environment\n",
    "load_dotenv()\n",
    "\n",
    "# Neo4j setup\n",
    "driver = GraphDatabase.driver(\n",
    "    os.getenv(\"NEO4J_URI\"),\n",
    "    auth=(os.getenv(\"NEO4J_USER\"), os.getenv(\"NEO4J_PASSWORD\"))\n",
    ")\n",
    "\n",
    "# MongoDB setup\n",
    "client = pymongo.MongoClient(os.getenv(\"MONGO_URI\"))\n",
    "db = client[\"fracsnet\"]\n",
    "users_col = db[\"users\"]\n",
    "products_col = db[\"products\"]\n",
    "interactions_col = db[\"interactions\"]\n",
    "chat_history_col = db[\"chat_history\"]\n",
    "\n",
    "# Dataset\n",
    "df = pd.read_csv(\"./knowledge/Cleaned_Dataset.csv\").fillna(\"\")\n",
    "df[\"combined_text\"] = df[[\"ProductName\", \"Nutrient_category\", \"Description\", \"Formulated_For\", \"HealthConcern\", \"Benefits\"]].astype(str).agg(\" \".join, axis=1)\n",
    "\n",
    "# Models\n",
    "embedding_model = HuggingFaceEmbeddings(model_name=\"sentence-transformers/all-MiniLM-L6-v2\")\n",
    "llm = ChatGroq(model_name=\"llama-3.3-70b-versatile\")\n",
    "memory = ConversationBufferMemory(memory_key=\"chat_history\", return_messages=True)\n",
    "search = GoogleSearchAPIWrapper(\n",
    "    google_api_key=os.getenv(\"GOOGLE_API_KEY\"),\n",
    "    google_cse_id=os.getenv(\"GOOGLE_CSE_ID\")\n",
    ")\n",
    "\n",
    "# Recommendation logic\n",
    "def get_neo4j_recommendations(query_text, top_k=5):\n",
    "    query_embedding = embedding_model.embed_query(query_text)\n",
    "    keywords = set(query_text.lower().split())\n",
    "\n",
    "    with driver.session() as session:\n",
    "        results = session.run(\"\"\"\n",
    "            CALL db.index.vector.queryNodes('product_embeddings', $top_k, $embedding)\n",
    "            YIELD node, score\n",
    "            RETURN node.ProductName AS name,\n",
    "                   node.Description AS description,\n",
    "                   node.ProductImage AS image,\n",
    "                   node.PdfLink AS pdf_link,\n",
    "                   node.Benefits AS benefits,\n",
    "                   node.HealthConcern AS concern,\n",
    "                   score\n",
    "        \"\"\", top_k=top_k * 3, embedding=query_embedding)\n",
    "\n",
    "        filtered = []\n",
    "        for record in results:\n",
    "            item = dict(record)\n",
    "            text_blob = \" \".join([str(item.get(\"description\", \"\")), str(item.get(\"concern\", \"\")), str(item.get(\"benefits\", \"\"))]).lower()\n",
    "            overlap = keywords.intersection(set(text_blob.split()))\n",
    "            adjusted_score = item[\"score\"] + 0.5 * len(overlap)\n",
    "            if overlap or item[\"score\"] > 0.75:\n",
    "                item[\"adjusted_score\"] = adjusted_score\n",
    "                filtered.append(item)\n",
    "\n",
    "        return sorted(filtered, key=lambda x: x[\"adjusted_score\"], reverse=True)[:top_k]\n",
    "\n",
    "def get_user_based_recommendations(username, top_k=3):\n",
    "    user_interactions = interactions_col.find({\"username\": username})\n",
    "    product_names = [ui[\"product_name\"] for ui in user_interactions]\n",
    "    if not product_names:\n",
    "        return None\n",
    "    df_user = df[df[\"ProductName\"].isin(product_names)]\n",
    "    combined_keywords = \" \".join(df_user[\"combined_text\"].tolist())\n",
    "    return get_neo4j_recommendations(combined_keywords, top_k=top_k)\n",
    "\n",
    "def hybrid_recommendation_tool(username, user_query):\n",
    "    user = users_col.find_one({\"username\": username})\n",
    "    query_text = f\"Health condition: {user_query}. Age: 19, Gender: female. Looking for effective supplements or natural remedies.\"\n",
    "    hybrid = get_neo4j_recommendations(query_text)\n",
    "    user_cf = get_user_based_recommendations(username)\n",
    "    if user_cf:\n",
    "        hybrid.extend([item for item in user_cf if item[\"name\"] not in {c[\"name\"] for c in hybrid}])\n",
    "    seen = set()\n",
    "    final = []\n",
    "    for item in hybrid:\n",
    "        if item[\"name\"] not in seen:\n",
    "            seen.add(item[\"name\"])\n",
    "            final.append(item)\n",
    "        if len(final) >= 3:\n",
    "            break\n",
    "    return final or [search.run(user_query)]\n",
    "\n",
    "def get_product_image(product_name):\n",
    "    product = products_col.find_one({\"product_name\": product_name}, {\"image_base64\": 1})\n",
    "    if product and \"image_base64\" in product:\n",
    "        try:\n",
    "            decoded = base64.b64decode(product[\"image_base64\"])\n",
    "            return Image.open(BytesIO(decoded))\n",
    "        except:\n",
    "            return None\n",
    "    return None\n",
    "\n",
    "def record_interaction(username, product_name):\n",
    "    interactions_col.insert_one({\"username\": username, \"product_name\": product_name})\n",
    "\n",
    "def record_chat(username, query, response):\n",
    "    chat_history_col.insert_one({\"username\": username, \"query\": query, \"response\": response})\n",
    "\n",
    "def get_user_chat_history(username):\n",
    "    return list(chat_history_col.find({\"username\": username}, {\"_id\": 0}))\n",
    "\n",
    "def match_product_by_name(user_query):\n",
    "    query_lower = user_query.lower()\n",
    "    for product in df[\"ProductName\"]:\n",
    "        if product.lower() in query_lower:\n",
    "            return product\n",
    "    return None\n",
    "\n",
    "# LangChain Agent Tool\n",
    "def recommendation_agent_tool(input):\n",
    "    username, query = input.split(\"|\")\n",
    "    recs = hybrid_recommendation_tool(username.strip(), query.strip())\n",
    "    return \"\\n\".join([r[\"name\"] if isinstance(r, dict) else r for r in recs])\n",
    "\n",
    "tools = [Tool(name=\"Recommender\", func=recommendation_agent_tool, description=\"Use to get supplement recommendations by passing 'username|query' format\")]\n",
    "agent = initialize_agent(\n",
    "    tools,\n",
    "    llm,\n",
    "    agent=AgentType.ZERO_SHOT_REACT_DESCRIPTION,\n",
    "    memory=memory,\n",
    "    verbose=False,\n",
    "    handle_parsing_errors=True\n",
    ")\n",
    "\n",
    "# Direct usage function\n",
    "def ask_health_bot(username, user_query):\n",
    "    product = match_product_by_name(user_query)\n",
    "    if product:\n",
    "        product_info = df[df[\"ProductName\"] == product].iloc[0].to_dict()\n",
    "        record_interaction(username, product)\n",
    "        record_chat(username, user_query, f\"Matched product: {product}\")\n",
    "        return {\"type\": \"matched_product\", \"product\": product_info}\n",
    "    else:\n",
    "        response = agent.run(f\"{username}|{user_query}\")\n",
    "        results = hybrid_recommendation_tool(username, user_query)\n",
    "        record_chat(username, user_query, response)\n",
    "        return {\"type\": \"recommendations\", \"results\": results}\n"
   ]
  },
  {
   "cell_type": "code",
   "execution_count": 9,
   "id": "f0b4119c",
   "metadata": {},
   "outputs": [
    {
     "name": "stderr",
     "output_type": "stream",
     "text": [
      "Received notification from DBMS server: {severity: WARNING} {code: Neo.ClientNotification.Statement.UnknownPropertyKeyWarning} {category: UNRECOGNIZED} {title: The provided property key is not in the database} {description: One of the property names in your query is not available in the database, make sure you didn't misspell it or that the label is available when you run this statement in your application (the missing property name is: HealthConcern)} {position: line: 9, column: 25, offset: 376} for query: \"\\n            CALL db.index.vector.queryNodes('product_embeddings', $top_k, $embedding)\\n            YIELD node, score\\n            RETURN node.ProductName AS name,\\n                   node.Description AS description,\\n                   node.ProductImage AS image,\\n                   node.PdfLink AS pdf_link,\\n                   node.Benefits AS benefits,\\n                   node.HealthConcern AS concern,\\n                   score\\n        \"\n",
      "Received notification from DBMS server: {severity: WARNING} {code: Neo.ClientNotification.Statement.UnknownPropertyKeyWarning} {category: UNRECOGNIZED} {title: The provided property key is not in the database} {description: One of the property names in your query is not available in the database, make sure you didn't misspell it or that the label is available when you run this statement in your application (the missing property name is: HealthConcern)} {position: line: 9, column: 25, offset: 376} for query: \"\\n            CALL db.index.vector.queryNodes('product_embeddings', $top_k, $embedding)\\n            YIELD node, score\\n            RETURN node.ProductName AS name,\\n                   node.Description AS description,\\n                   node.ProductImage AS image,\\n                   node.PdfLink AS pdf_link,\\n                   node.Benefits AS benefits,\\n                   node.HealthConcern AS concern,\\n                   score\\n        \"\n"
     ]
    },
    {
     "name": "stdout",
     "output_type": "stream",
     "text": [
      "Product Name: Diaxinol®\n",
      "Description: Diaxinol® is a natural and synergistic formula for \n",
      "promoting balanced blood sugar levels.\n",
      "\n",
      "Product Name: InosiCare\n",
      "Description: InosiCare is a cutting-edge inositol formula that includes clinically researched \n",
      "ingredients that harmonize metabolic function, optimize hormonal balance, \n",
      "and enhance microbiome health\n",
      "\n",
      "Product Name: Soft Tissue Support Pack\n",
      "Description: A combination of four top products for optimal tissue and muscle support.\n",
      "\n"
     ]
    }
   ],
   "source": [
    "a = ask_health_bot(\"saloni\", \"recommend me a supplement for diabetes\")\n",
    "\n",
    "for product in a['results']:\n",
    "    print(f\"Product Name: {product['name']}\")\n",
    "    print(f\"Description: {product['description']}\\n\")"
   ]
  },
  {
   "cell_type": "code",
   "execution_count": null,
   "id": "750f38f6",
   "metadata": {},
   "outputs": [],
   "source": []
  },
  {
   "cell_type": "code",
   "execution_count": null,
   "id": "f9ef1777",
   "metadata": {},
   "outputs": [],
   "source": []
  }
 ],
 "metadata": {
  "kernelspec": {
   "display_name": "Python 3",
   "language": "python",
   "name": "python3"
  },
  "language_info": {
   "codemirror_mode": {
    "name": "ipython",
    "version": 3
   },
   "file_extension": ".py",
   "mimetype": "text/x-python",
   "name": "python",
   "nbconvert_exporter": "python",
   "pygments_lexer": "ipython3",
   "version": "3.11.9"
  }
 },
 "nbformat": 4,
 "nbformat_minor": 5
}
