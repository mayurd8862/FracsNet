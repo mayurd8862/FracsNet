{
 "cells": [
  {
   "cell_type": "markdown",
   "metadata": {},
   "source": [
    "# ChromaDB\n"
   ]
  },
  {
   "cell_type": "markdown",
   "metadata": {},
   "source": [
    "### Save embedding to chromadb (local)"
   ]
  },
  {
   "cell_type": "code",
   "execution_count": null,
   "metadata": {},
   "outputs": [],
   "source": [
    "from langchain_community.embeddings import SentenceTransformerEmbeddings\n",
    "from langchain_chroma import Chroma\n",
    "from langchain_community.document_loaders import PyPDFLoader\n",
    "import sys\n",
    "\n",
    "def embd_vectordb(filepath):\n",
    "    # Initialize the embedding model\n",
    "    embedding = SentenceTransformerEmbeddings(model_name=\"all-MiniLM-L6-v2\")\n",
    "\n",
    "    try:\n",
    "        # Load and split the PDF document\n",
    "        docs = PyPDFLoader(filepath).load_and_split()\n",
    "\n",
    "        # Create a Chroma vector store with a specified directory for persistence\n",
    "        db = Chroma.from_documents(docs, embedding, persist_directory=\"./chroma_db\")\n",
    "        print(\"Vector database created and persisted.\")\n",
    "        return db\n",
    "    except Exception as e:\n",
    "        print(f\"Error creating vector database: {e}\")\n",
    "        return None\n",
    "\n",
    "def load_vectordb():\n",
    "    # Initialize the embedding model\n",
    "    embedding = SentenceTransformerEmbeddings(model_name=\"all-MiniLM-L6-v2\")\n",
    "    \n",
    "    try:\n",
    "        # Load the previously saved Chroma vector store\n",
    "        loaded_db = Chroma(persist_directory=\"./chroma_db\", embedding_function=embedding)\n",
    "        return loaded_db\n",
    "    except Exception as e:\n",
    "        print(f\"Error loading vector database: {e}\")\n",
    "        return None\n",
    "\n",
    "if __name__ == \"__main__\":\n",
    "    embd_vectordb(\"knowledge/health.pdf\")\n"
   ]
  },
  {
   "cell_type": "markdown",
   "metadata": {},
   "source": [
    "### Get responce using chromadb"
   ]
  },
  {
   "cell_type": "code",
   "execution_count": 33,
   "metadata": {},
   "outputs": [],
   "source": [
    "from langchain.prompts import PromptTemplate\n",
    "from langchain.chains import RetrievalQA\n",
    "from langchain_groq import ChatGroq\n",
    "from langchain_community.embeddings import SentenceTransformerEmbeddings\n",
    "from langchain_chroma import Chroma\n",
    "from functools import lru_cache\n",
    "\n",
    "# Cached LLM initialization\n",
    "@lru_cache()\n",
    "def get_llm():\n",
    "    return ChatGroq(model_name=\"Llama3-8b-8192\")\n",
    "\n",
    "# Cached vector database initialization\n",
    "@lru_cache()\n",
    "def get_vectordb():\n",
    "    embedding = SentenceTransformerEmbeddings(\n",
    "        model_name=\"all-MiniLM-L6-v2\",\n",
    "        model_kwargs={'device': 'cpu'}  # Explicitly set to CPU if you don't need GPU\n",
    "    )\n",
    "    return Chroma(persist_directory=\"./test_db\", embedding_function=embedding)\n",
    "\n",
    "def generate_response(query: str):\n",
    "    \"\"\"\n",
    "    Generates a response to the user's query using the info agent.\n",
    "    \"\"\"\n",
    "    template =\"\"\"You are a healthcare e-commerce assistant that provides factual, direct answers based solely on the provided context. \n",
    "\n",
    "    IMPORTANT: Do not add greetings, introductions, or closing questions when responding to direct queries. Only respond with relevant information from the context.\n",
    "\n",
    "    RULES:\n",
    "    - If the user's message is a greeting (like \"hi\", \"hello\", \"hey\",\"how are u\" etc.) or contains only small talk, respond with a friendly greeting\n",
    "    - Answer directly without adding \"Hi there\" or \"I'm happy to help\" introductions\n",
    "    - Do not ask follow-up questions like \"Do you have any other questions?\"\n",
    "    - Only acknowledge greetings if the user's message is purely a greeting with no question\n",
    "    - Use simple, patient-friendly language while being factual\n",
    "    - Only use information found in the context\n",
    "    - Say \"I don't have enough information to answer that\" if the context doesn't contain relevant information\n",
    "\n",
    "    Context:\n",
    "    {context}\n",
    "    \n",
    "    Patient's Question:\n",
    "    {question}\n",
    "    \"\"\"\n",
    "\n",
    "    QA_CHAIN_PROMPT = PromptTemplate(\n",
    "        input_variables=[\"context\", \"question\"],\n",
    "        template=template\n",
    "    )\n",
    "\n",
    "    try:\n",
    "        llm = get_llm()\n",
    "        vectordb = get_vectordb()\n",
    "        \n",
    "        qa_chain = RetrievalQA.from_chain_type(\n",
    "            llm,\n",
    "            retriever=vectordb.as_retriever(search_kwargs={\"k\": 3}),  # Limit to top 3 results\n",
    "            return_source_documents=True,\n",
    "            chain_type_kwargs={\"prompt\": QA_CHAIN_PROMPT}\n",
    "        )\n",
    "\n",
    "        result = qa_chain.invoke(query)\n",
    "        return result[\"result\"]\n",
    "    except Exception as e:\n",
    "        raise Exception(f\"Error generating response: {str(e)}\")\n",
    "\n"
   ]
  },
  {
   "cell_type": "code",
   "execution_count": 34,
   "metadata": {},
   "outputs": [
    {
     "data": {
      "text/plain": [
       "'The most common cause of a sore throat is viral pharyngitis, which is caused by a viral infection such as the common cold or the flu.'"
      ]
     },
     "execution_count": 34,
     "metadata": {},
     "output_type": "execute_result"
    }
   ],
   "source": [
    "generate_response(\"What is the most common cause of a sore throat?\")"
   ]
  },
  {
   "cell_type": "code",
   "execution_count": 4,
   "metadata": {},
   "outputs": [
    {
     "data": {
      "text/plain": [
       "'The most common cause of a sore throat is usually a viral infection, such as a cold or flu.'"
      ]
     },
     "execution_count": 4,
     "metadata": {},
     "output_type": "execute_result"
    }
   ],
   "source": [
    "generate_response(\"What is the most common cause of a sore throat?\")"
   ]
  },
  {
   "cell_type": "code",
   "execution_count": null,
   "metadata": {},
   "outputs": [],
   "source": []
  },
  {
   "cell_type": "markdown",
   "metadata": {},
   "source": [
    "## Qdrant "
   ]
  },
  {
   "cell_type": "markdown",
   "metadata": {},
   "source": [
    "### Save embedding to Qdrant (qdrant cloud)"
   ]
  },
  {
   "cell_type": "code",
   "execution_count": null,
   "metadata": {},
   "outputs": [],
   "source": [
    "from langchain_qdrant import QdrantVectorStore\n",
    "from qdrant_client import QdrantClient\n",
    "from qdrant_client.http.models import Distance, VectorParams\n",
    "from langchain_community.embeddings import SentenceTransformerEmbeddings\n",
    "\n",
    "import os\n",
    "import qdrant_client\n",
    "from langchain_community.document_loaders import PyPDFLoader\n",
    "from langchain_community.embeddings import SentenceTransformerEmbeddings\n",
    "from langchain_groq import ChatGroq\n",
    "from langchain_core.documents import Document\n",
    "from uuid import uuid4\n",
    "\n",
    "from dotenv import load_dotenv\n",
    "load_dotenv()\n",
    "\n",
    "qdrant_api_key = os.getenv(\"QDRANT_API_KEY\")\n",
    "\n",
    "client = QdrantClient(\n",
    "    url=\"https://b5e3e25c-0644-477b-8c25-76b8e3c4fb7a.us-east-1-0.aws.cloud.qdrant.io:6333\", \n",
    "    api_key=qdrant_api_key,\n",
    ")\n",
    "\n",
    "embeddings = SentenceTransformerEmbeddings(model_name=\"all-MiniLM-L6-v2\")\n",
    "# client = QdrantClient(\":memory:\")\n",
    "\n",
    "client.create_collection(\n",
    "    collection_name=\"rag\",\n",
    "    vectors_config=VectorParams(size=384, distance=Distance.COSINE),\n",
    ")\n",
    "\n",
    "vector_store = QdrantVectorStore(\n",
    "    client=client,\n",
    "    collection_name=\"rag\",\n",
    "    embedding=embeddings,\n",
    ")\n",
    "\n",
    "chunks = PyPDFLoader(\"C:/Users/mayur/Desktop/FRACSNET/knowledge/health.pdf\").load_and_split()\n",
    "uuids = [str(uuid4()) for _ in range(len(chunks))]\n",
    "vector_store.add_documents(documents=chunks, ids=uuids)\n",
    "\n",
    "query = \"What is the most common cause of a sore throat?\"\n",
    "results = vector_store.similarity_search(query, k=2)\n",
    "\n",
    "print(\"\\n🔍 Search Results:\")\n",
    "for res in results:\n",
    "    print(f\"📄 {res.page_content} [{res.metadata}]\")\n",
    "\n"
   ]
  },
  {
   "cell_type": "markdown",
   "metadata": {},
   "source": [
    "### Get responce using qdrant"
   ]
  },
  {
   "cell_type": "code",
   "execution_count": 3,
   "metadata": {},
   "outputs": [
    {
     "name": "stderr",
     "output_type": "stream",
     "text": [
      "C:\\Users\\mayur\\AppData\\Local\\Temp\\ipykernel_19964\\733547420.py:24: LangChainDeprecationWarning: The class `HuggingFaceEmbeddings` was deprecated in LangChain 0.2.2 and will be removed in 1.0. An updated version of the class exists in the :class:`~langchain-huggingface package and should be used instead. To use it run `pip install -U :class:`~langchain-huggingface` and import as `from :class:`~langchain_huggingface import HuggingFaceEmbeddings``.\n",
      "  embeddings = SentenceTransformerEmbeddings(model_name=\"all-MiniLM-L6-v2\")\n"
     ]
    },
    {
     "name": "stdout",
     "output_type": "stream",
     "text": [
      "WARNING:tensorflow:From C:\\Users\\mayur\\AppData\\Local\\Packages\\PythonSoftwareFoundation.Python.3.11_qbz5n2kfra8p0\\LocalCache\\local-packages\\Python311\\site-packages\\tf_keras\\src\\losses.py:2976: The name tf.losses.sparse_softmax_cross_entropy is deprecated. Please use tf.compat.v1.losses.sparse_softmax_cross_entropy instead.\n",
      "\n"
     ]
    }
   ],
   "source": [
    "from langchain_qdrant import QdrantVectorStore\n",
    "from qdrant_client import QdrantClient\n",
    "from qdrant_client.http.models import Distance, VectorParams\n",
    "from langchain_community.embeddings import SentenceTransformerEmbeddings\n",
    "\n",
    "import os\n",
    "import qdrant_client\n",
    "from langchain_community.document_loaders import PyPDFLoader\n",
    "from langchain_community.embeddings import SentenceTransformerEmbeddings\n",
    "from langchain_groq import ChatGroq\n",
    "from langchain_core.documents import Document\n",
    "from uuid import uuid4\n",
    "\n",
    "from dotenv import load_dotenv\n",
    "load_dotenv()\n",
    "\n",
    "from functools import lru_cache\n",
    "\n",
    "# Cached LLM initialization\n",
    "@lru_cache()\n",
    "def get_llm():\n",
    "    return ChatGroq(model_name=\"Llama3-8b-8192\")\n",
    "\n",
    "embeddings = SentenceTransformerEmbeddings(model_name=\"all-MiniLM-L6-v2\")\n",
    "\n",
    "qdrant_api_key = os.getenv(\"QDRANT_API_KEY\")\n",
    "\n",
    "client = QdrantClient(\n",
    "    url=\"https://b5e3e25c-0644-477b-8c25-76b8e3c4fb7a.us-east-1-0.aws.cloud.qdrant.io:6333\", \n",
    "    api_key=qdrant_api_key,\n",
    ")\n",
    "\n",
    "vector_store = QdrantVectorStore(\n",
    "    client=client,\n",
    "    collection_name=\"rag\",\n",
    "    embedding=embeddings,\n",
    ")\n",
    "\n",
    "def response_generator(vectordb, query, llm):\n",
    "    context = vectordb.similarity_search(query, k=2)\n",
    "\n",
    "    # for res in results:\n",
    "    #     print(f\"📄 {res.page_content} [{res.metadata}]\")\n",
    "    template = f\"\"\"\n",
    "    You are an intelligent assistant designed to provide accurate and concise answers based on the context provided. \n",
    "    Follow these rules strictly:\n",
    "    1. Use ONLY the information provided in the context to answer the question.\n",
    "    2. If the context does not contain enough information to answer the question, say \"I don't know.\"\n",
    "    3. Do not make up or assume any information outside of the context.\n",
    "    4. Keep your answer concise and to the point (maximum 3 sentences).\n",
    "\n",
    "    Context:\n",
    "    {context}\n",
    "\n",
    "    Question:\n",
    "    {query}\n",
    "\n",
    "    Helpful Answer:\n",
    "    \"\"\"\n",
    "    ans = llm.invoke(template)\n",
    "    return ans.content"
   ]
  },
  {
   "cell_type": "code",
   "execution_count": 5,
   "metadata": {},
   "outputs": [
    {
     "data": {
      "text/plain": [
       "\"I don't know. The provided context does not contain information about the most common cause of a sore throat.\""
      ]
     },
     "execution_count": 5,
     "metadata": {},
     "output_type": "execute_result"
    }
   ],
   "source": [
    "llm = get_llm()\n",
    "response_generator(vector_store, \"What is the most common cause of a sore throat?\", llm)"
   ]
  },
  {
   "cell_type": "code",
   "execution_count": null,
   "metadata": {},
   "outputs": [],
   "source": []
  },
  {
   "cell_type": "code",
   "execution_count": null,
   "metadata": {},
   "outputs": [],
   "source": []
  },
  {
   "cell_type": "code",
   "execution_count": null,
   "metadata": {},
   "outputs": [],
   "source": []
  },
  {
   "cell_type": "code",
   "execution_count": 25,
   "metadata": {},
   "outputs": [
    {
     "name": "stdout",
     "output_type": "stream",
     "text": [
      "\n",
      "🔍 Search Results:\n",
      "📄 Natural D-Hist® includes quercetin , known for its ability to stabilize mast cells, thereby diminishing the release of histamine, the compound known to cause hypersensitivity reactions. Stinging \n",
      "nettle promotes immune system balance, specifically in the mucosal passages. Bromelain  is a proteolytic enzyme that aids in the breakdown of large protein complexes, including antigenic \n",
      "compounds, and has been shown to enhance the absorption of quercetin. Bromelain has also been shown to reduce circulating allergenic protein complexes associated with hyperimmune \n",
      "sensitivity and seasonal discomfort. N-acetyl cysteine (NAC)  is an amino acid precursor to one of the most important antioxidants in the body, glutathione. NAC helps reduce the viscosity \n",
      "of mucus, promoting optimal mucus clearance and healthy mucosal passages. Vitamin C has many immune-boosting properties, but is distinctively beneficial for individuals with seasonal \n",
      "discomfort because of its ability to deactivate histamine. The powerful combination of ingredients in Natural D-Hist® actively promotes healthy mucosal passages for individuals with elevated \n",
      "histamine and mucosal irritation.\n",
      "PATIENT\n",
      "NEWSLETTER\n",
      "PATIENT\n",
      "BROCHURE\n",
      "Also available in convenient  \n",
      "Blister Packs\n",
      "SUGGESTED USE: Loading Dose: 2 capsules three times per day for 7-10 \n",
      "days. Maintenance: 2 capsules per day or as recommended by your health \n",
      "care professional. Formulated to be free of allergens derived from: Gluten, \n",
      "yeast, artificial colors or flavors. If you are pregnant or nursing, consult \n",
      "your physician before taking this product. As with all dietary supplements, \n",
      "some individuals may not tolerate or may be allergic to the ingredients \n",
      "used. Please read the ingredient panel carefully prior to ingestion. Cease \n",
      "taking this product and consult your physician if you have negative \n",
      "reactions upon ingestion. KEEP CONTAINER TIGHTLY CLOSED. STORE AT \n",
      "ROOM TEMPERATURE. KEEP OUT OF REACH OF CHILDREN. This product \n",
      "was sealed for your protection. Do not use if outer logoed neck seal or \n",
      "inner-seal is missing or damaged.\n",
      "LEARN MORE ABOUT US AT  OrthoMolecularProducts.com\n",
      "Professional Strength: Not for sale through Amazon.com\n",
      "Supplement Facts\n",
      "Serving Size 2 Capsules\n",
      "Servings Per Container 20\n",
      "V1\n",
      "             Amount Per\n",
      "Serving\n",
      "Vitamin C\n",
      " (as Ascorbic Acid USP)\n",
      "Quercetin Dihydrate\n",
      "Stinging Nettle (Leaves)\n",
      "Bromelain (from Pineapple)\n",
      "N-Acetyl-L-Cysteine USP\n",
      "* Daily Value not established.\n",
      "300 mg\n",
      "400 mg\n",
      "400 mg\n",
      "100 mg (240 GDU)\n",
      "50 mg\n",
      "333%\n",
      "*\n",
      "*\n",
      "*\n",
      "*\n",
      "% Daily\n",
      "Value\n",
      "Label ID L-OMP100-524040-V\n",
      "Product #524040\n",
      "40 Capsules\n",
      "Dietary Supplement\n",
      "Other Ingredients: Hypromellose (Natural Vegetable Capsules), Silicon \n",
      "Dioxide, Stearic Acid and Magnesium Stearate.\n",
      "Ortho Molecular Products, Inc. 3017 Business Park Drive, Stevens Point, WI 54482\n",
      "Vcaps® is a trademark of Lonza or its affiliates.DO NOT ACCEPT IF LABEL\n",
      "SHOWS SIGNS OF TAMPERINGLEARN MORE\n",
      "®\n",
      "®\n",
      "6pt SUGG USE\n",
      "8pt \n",
      "XXpt \n",
      "7pt NET QTYDIET SUPP\n",
      "FDA STMT 12ptTITLE\n",
      "5pt\n",
      "5pt\n",
      "5ptFOOTNOTE\n",
      "5ptOTHER\n",
      "INGREDIENT\n",
      "SFB BODY\n",
      "HEADING\n",
      "SUPPLEMENT FACTS\n",
      "FOR OFFICE USE ONLY\n",
      "FONT POINT SIZES\n",
      "CUSTOMER OMPI\n",
      "L-OMP100-524040-V\n",
      "SIZE\n",
      "LABEL ID\n",
      "6.75\" x 2.125\"\n",
      "DATE 10-5-23\n",
      "SFB Version V1\n",
      "FILENAME L-OMP100-524040-V.ai\n",
      "This proof is a representation of your finished label. Artwork is subject to the \n",
      "output and settings of the monitors or printers used. Consequently colors on \n",
      "this proof should not be considered accurate. Your signature and return of this file ensures \n",
      "that you have given Ortho Molecular print approval after having proofread copy and exam-\n",
      "ined the artwork presented on this proof. You are solely responsible for design; All \n",
      "elements of the text including: content, spelling, grammar and punctuation. Changes may \n",
      "delay your press date. Signed copy of this proof must be returned electronically or via fax \n",
      "before your order can be printed.\n",
      "NOTICE\n",
      "APPROVED\n",
      "Client Signature Date\n",
      "CORRECTED PROOF REQUESTED\n",
      "BTL 150cc\n",
      "Return Proofs to: Your Private Label Team 1991 Duncan Place, Woodstock, IL 60098 [{'source': 'C:/Users/mayur/Desktop/FRACSNET/knowledge/health.pdf', 'page': 88, '_id': '57324056-dfe9-4668-9bee-5b41b610e43c', '_collection_name': 'rag'}]\n",
      "📄 dioica) balances immune and inflammatory responses, specifically in the airways \n",
      "and nasal passages. Bromelain  is a plant enzyme naturally found in pineapples \n",
      "and has been shown to enhance the absorption of quercetin. Bromelain has also \n",
      "been shown to reduce circulating allergenic protein complexes associated with \n",
      "hyperimmune sensitivity and seasonal discomfort. N-acetyl cysteine (NAC) is \n",
      "an amino acid precursor to one of the most important antioxidants in the body, \n",
      "glutathione. Both glutathione and NAC help reduce the viscosity of mucus, \n",
      "allowing for cleared airways and improved respiratory health. Vitamin C  cannot \n",
      "be synthesized by humans and is therefore an essential nutrient that must be \n",
      "consumed in the diet. Among its numerous health-promoting properties, vitamin \n",
      "C is distinctively beneficial for individuals with seasonal discomfort because of its \n",
      "ability to deactivate histamine. It supports the immune system and also acts as a \n",
      "potent antioxidant.\n",
      "D-Hist Jr.™ is a great-tasting, chewable tablet \n",
      "that includes a targeted blend of flavonoids, \n",
      "antioxidants, proteolytic enzymes and botanicals.\n",
      "DG Protect\n",
      "SUGGESTED USE: 1 capsule before a meal or as recommended by your health care \n",
      "professional. Formulated to be free of allergens derived from: Corn, yeast, artificial colors \n",
      "or flavors. If you are pregnant or nursing, consult your physician before taking this product. \n",
      "As with all dietary supplements, some individuals may not tolerate or may be allergic to \n",
      "the ingredients used. Please read the ingredient panel carefully prior to ingestion. Cease \n",
      "taking this product and consult your physician if you have negative reactions upon \n",
      "ingestion. CAUTION: This product contains a desiccant. For best results, keep the \n",
      "desiccant in the bottle until all contents are consumed. DO NOT EAT DESICCANT. KEEP \n",
      "CONTAINER TIGHTLY CLOSED. STORE AT ROOM TEMPERATURE. KEEP OUT OF REACH \n",
      "OF CHILDREN. This product was sealed for your protection. Do not use if outer logoed \n",
      "neck seal or inner-seal is missing or damaged.\n",
      "Other Ingredients: Microcrystalline Cellulose, Hypromellose (Natural \n",
      "Vegetable Capsule), Magnesium Stearate and Silicon Dioxide.\n",
      "Supplement Facts\n",
      "Serving Size  1 Capsule \n",
      "Servings Per Container  60\n",
      "V1\n",
      "                  Amount Per\n",
      "Serving\n",
      "%Daily\n",
      "Value\n",
      "Dairy-Gluten Digestion Blend\n",
      "(Dairylytic® and Glutalytic®)\n",
      "Exopeptidase (125 DPP IV)\n",
      "Endopeptidase Complex (75,000 HUT/500 SAPU)\n",
      "Lactase (4,500 ALU)\n",
      "* Daily Value not established.\n",
      "350 mg\n",
      "*\n",
      "*\n",
      "*\n",
      "Label ID L-OMP100-480060-B\n",
      "Product #480060\n",
      "60 Capsules\n",
      "Dietary Supplement\n",
      "† This statement has not been evaluated by the \n",
      "Food and Drug Administration. This product is not \n",
      "intended to diagnose, treat, cure or prevent any \n",
      "disease.\n",
      "Dairylytic® and Glutalytic® are registered trademarks of Deerland Probiotics\n",
      "and Enzymes, Inc.\n",
      "LEARN MORE ABOUT US AT OrthoMolecularProducts.com\n",
      "Professional Strength: Not for sale through Amazon.com150 3 3 0 048 0 46\n",
      "DG Protect\n",
      "GASTROINTESTINAL\n",
      "HEALTH †\n",
      "Ortho Molecular Products, Inc. 3017 Business Park Drive, Stevens Point, WI 54482\n",
      "DO NOT ACCEPT IF LABEL\n",
      "SHOWS SIGNS OF TAMPERINGLEARN MORE\n",
      "CUSTOMER OMPI\n",
      "L-OMP100-480060-B\n",
      "SIZE\n",
      "LABEL ID\n",
      "6.75\" x 2.125\" \n",
      "DATE 10-19-22\n",
      "SFB Version V1\n",
      "FILENAME L-OMP100-480060-B.ai\n",
      "This proof is a representation of your finished label. Artwork is subject to the \n",
      "output and settings of the monitors or printers used. Consequently colors on \n",
      "this proof should not be considered accurate. Your signature and return of this file ensures \n",
      "that you have given Ortho Molecular print approval after having proofread copy and exam-\n",
      "ined the artwork presented on this proof. You are solely responsible for design; All \n",
      "elements of the text including: content, spelling, grammar and punctuation. Changes may \n",
      "delay your press date. Signed copy of this proof must be returned electronically or via fax \n",
      "before your order can be printed.\n",
      "NOTICE\n",
      "APPROVED\n",
      "Client Signature Date\n",
      "CORRECTED PROOF REQUESTED\n",
      "BTL 150cc [{'source': 'C:/Users/mayur/Desktop/FRACSNET/knowledge/health.pdf', 'page': 56, '_id': '72ccf78c-91fb-458d-8e67-aa7090d97245', '_collection_name': 'rag'}]\n"
     ]
    }
   ],
   "source": [
    "query = \"What is the most common cause of a sore throat?\"\n",
    "results = vector_store.similarity_search(query, k=2)\n",
    "\n",
    "print(\"\\n🔍 Search Results:\")\n",
    "for res in results:\n",
    "    print(f\"📄 {res.page_content} [{res.metadata}]\")\n"
   ]
  },
  {
   "cell_type": "code",
   "execution_count": 26,
   "metadata": {},
   "outputs": [],
   "source": [
    "def response_generator(vectordb, query, llm):\n",
    "    context = vectordb.similarity_search(query, k=2)\n",
    "\n",
    "    # for res in results:\n",
    "    #     print(f\"📄 {res.page_content} [{res.metadata}]\")\n",
    "    template = f\"\"\"\n",
    "    You are an intelligent assistant designed to provide accurate and concise answers based on the context provided. \n",
    "    Follow these rules strictly:\n",
    "    1. Use ONLY the information provided in the context to answer the question.\n",
    "    2. If the context does not contain enough information to answer the question, say \"I don't know.\"\n",
    "    3. Do not make up or assume any information outside of the context.\n",
    "    4. Keep your answer concise and to the point (maximum 3 sentences).\n",
    "\n",
    "    Context:\n",
    "    {context}\n",
    "\n",
    "    Question:\n",
    "    {query}\n",
    "\n",
    "    Helpful Answer:\n",
    "    \"\"\"\n",
    "    ans = llm.invoke(template)\n",
    "    return ans.content"
   ]
  },
  {
   "cell_type": "code",
   "execution_count": 27,
   "metadata": {},
   "outputs": [],
   "source": [
    "llm = get_llm()"
   ]
  },
  {
   "cell_type": "code",
   "execution_count": null,
   "metadata": {},
   "outputs": [
    {
     "data": {
      "text/plain": [
       "\"I don't know. The provided context does not contain information about the most common cause of a sore throat.\""
      ]
     },
     "execution_count": 29,
     "metadata": {},
     "output_type": "execute_result"
    }
   ],
   "source": [
    "llm = get_llm()\n",
    "response_generator(vector_store, \"What is the most common cause of a sore throat?\", llm)"
   ]
  },
  {
   "cell_type": "code",
   "execution_count": null,
   "metadata": {},
   "outputs": [],
   "source": []
  },
  {
   "cell_type": "code",
   "execution_count": null,
   "metadata": {},
   "outputs": [],
   "source": []
  },
  {
   "cell_type": "code",
   "execution_count": null,
   "metadata": {},
   "outputs": [],
   "source": []
  },
  {
   "cell_type": "code",
   "execution_count": null,
   "metadata": {},
   "outputs": [],
   "source": []
  }
 ],
 "metadata": {
  "kernelspec": {
   "display_name": "Python 3",
   "language": "python",
   "name": "python3"
  },
  "language_info": {
   "codemirror_mode": {
    "name": "ipython",
    "version": 3
   },
   "file_extension": ".py",
   "mimetype": "text/x-python",
   "name": "python",
   "nbconvert_exporter": "python",
   "pygments_lexer": "ipython3",
   "version": "3.11.9"
  }
 },
 "nbformat": 4,
 "nbformat_minor": 2
}
